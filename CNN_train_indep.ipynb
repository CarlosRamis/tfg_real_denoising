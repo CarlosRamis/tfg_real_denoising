{
 "cells": [
  {
   "cell_type": "code",
   "execution_count": 1,
   "metadata": {},
   "outputs": [
    {
     "name": "stdout",
     "output_type": "stream",
     "text": [
      "Loading training data\n",
      "../Dataset_CNN/Scene_24/\n",
      "../Dataset_CNN/Scene_23/\n",
      "../Dataset_CNN/Scene_15/\n",
      "../Dataset_CNN/Scene_12/\n",
      "../Dataset_CNN/Scene_13/\n",
      "../Dataset_CNN/Scene_14/\n",
      "../Dataset_CNN/Scene_22/\n",
      "../Dataset_CNN/Scene_25/\n",
      "../Dataset_CNN/Scene_07/\n",
      "../Dataset_CNN/Scene_36/\n",
      "../Dataset_CNN/Scene_09/\n",
      "../Dataset_CNN/Scene_31/\n",
      "../Dataset_CNN/Scene_30/\n",
      "../Dataset_CNN/Scene_08/\n",
      "../Dataset_CNN/Scene_06/\n",
      "../Dataset_CNN/Scene_20/\n",
      "../Dataset_CNN/Scene_18/\n",
      "../Dataset_CNN/Scene_27/\n",
      "../Dataset_CNN/Scene_11/\n",
      "../Dataset_CNN/Scene_29/\n",
      "../Dataset_CNN/Scene_16/\n",
      "../Dataset_CNN/Scene_28/\n",
      "../Dataset_CNN/Scene_17/\n",
      "../Dataset_CNN/Scene_10/\n",
      "../Dataset_CNN/Scene_19/\n",
      "../Dataset_CNN/Scene_26/\n",
      "Loading testing data\n",
      "../Dataset_CNN/Scene_21/\n",
      "../Dataset_CNN/Scene_32/\n",
      "../Dataset_CNN/Scene_35/\n",
      "../Dataset_CNN/Scene_34/\n",
      "../Dataset_CNN/Scene_33/\n"
     ]
    }
   ],
   "source": [
    "import matplotlib.pyplot as plt\n",
    "from glob import glob\n",
    "import numpy as np\n",
    "import scipy.io, cv2\n",
    "\n",
    "# Find images path\n",
    "scene_paths = glob('../Dataset_CNN/*/')\n",
    "\n",
    "# Fulfill data\n",
    "X_ = []\n",
    "y_ = []\n",
    "Xtest_ = []\n",
    "ytest_ = []\n",
    "\n",
    "print('Loading training data')\n",
    "for scene in scene_paths[0:-6]:\n",
    "    print(scene)\n",
    "    windows_path = glob(scene + '*')\n",
    "    \n",
    "    for window in windows_path[0:1]:\n",
    "        images_ref_path = glob(window + '/w_*.jpg')\n",
    "        NLF_path = window + '/NLF_filtered.mat'\n",
    "        \n",
    "        mat = scipy.io.loadmat(NLF_path)\n",
    "        NLF = (mat[\"NLF_step_filt\"][0])\n",
    "        NLF[np.isnan(NLF)] = 0\n",
    "        \n",
    "        for img_ref in images_ref_path[0:5]:\n",
    "            img = plt.imread(img_ref)\n",
    "            \n",
    "            X_.append(img)\n",
    "            y_.append(NLF*100)\n",
    "\n",
    "print('Loading testing data')\n",
    "for scene in scene_paths[-6:-1]:\n",
    "    print(scene)\n",
    "    windows_path = glob(scene + '*')\n",
    "    \n",
    "    for window in windows_path[0:1]:\n",
    "        images_ref_path = glob(window + '/w_*.jpg')\n",
    "        NLF_path = window + '/NLF_filtered.mat'\n",
    "        \n",
    "        mat = scipy.io.loadmat(NLF_path)\n",
    "        NLF = (mat[\"NLF_step_filt\"][0])\n",
    "        NLF[np.isnan(NLF)] = 0\n",
    "            \n",
    "        for img_ref in images_ref_path[0:5]:\n",
    "            img = plt.imread(img_ref)\n",
    "            \n",
    "            Xtest_.append(img)\n",
    "            ytest_.append(NLF*100)\n",
    "            "
   ]
  },
  {
   "cell_type": "code",
   "execution_count": 2,
   "metadata": {},
   "outputs": [],
   "source": [
    "X_ = np.asarray(X_)\n",
    "y_ = np.asarray(y_)\n",
    "\n",
    "Xtest_ = np.asarray(Xtest_)\n",
    "ytest_ = np.asarray(ytest_)\n"
   ]
  },
  {
   "cell_type": "code",
   "execution_count": 3,
   "metadata": {},
   "outputs": [
    {
     "name": "stdout",
     "output_type": "stream",
     "text": [
      "(130, 256, 256, 3)\n",
      "(130, 192)\n",
      "\n",
      "(25, 256, 256, 3)\n",
      "(25, 192)\n"
     ]
    }
   ],
   "source": [
    "print(np.shape(X_))\n",
    "print(np.shape(y_))\n",
    "print()\n",
    "print(np.shape(Xtest_))\n",
    "print(np.shape(ytest_))"
   ]
  },
  {
   "cell_type": "markdown",
   "metadata": {},
   "source": [
    "### Crear modelo"
   ]
  },
  {
   "cell_type": "code",
   "execution_count": 11,
   "metadata": {},
   "outputs": [],
   "source": [
    "from keras.layers import Conv2D, MaxPooling2D, Input, Dense, Flatten, Reshape\n",
    "from keras.layers import concatenate, AveragePooling2D, Activation, BatchNormalization\n",
    "from keras.models import Model\n",
    "from SpatialPyramidPooling import SpatialPyramidPooling\n",
    "from keras.layers import LeakyReLU\n",
    "import keras\n",
    "# First, define the vision modules\n",
    "input_imgs = Input(shape=(256, 256, 3))\n",
    "\n",
    "# Model\n",
    "def get_model_column(ks_1, ks_2):\n",
    "    x = Conv2D(64, kernel_size=(ks_1,ks_1), strides = 2, activation=None)(input_imgs)\n",
    "    x = BatchNormalization()(x)\n",
    "    x = Activation('relu')(x)\n",
    "    x = AveragePooling2D((2, 2))(x)\n",
    "    x = Conv2D(64, kernel_size=(ks_2,ks_2), activation=None)(x) # conv2_a\n",
    "    x = BatchNormalization()(x)\n",
    "    x = Activation('relu')(x)\n",
    "    x = AveragePooling2D((2, 2))(x) # pool2_a\n",
    "    x = Conv2D(64, kernel_size=(ks_2,ks_2), activation=None)(x) # conv2_a\n",
    "    x = BatchNormalization()(x)\n",
    "    x = Activation('relu')(x)\n",
    "    x = Conv2D(64, kernel_size=(ks_2,ks_2), activation=None)(x) # conv2_a\n",
    "    x = BatchNormalization()(x)\n",
    "    x = Activation('relu')(x)\n",
    "    #out = keras.layers.ZeroPadding2D(padding=((p_, 0), (0, p_)), data_format=None)(x)\n",
    "    x = Flatten()(x)\n",
    "    x = Dense(2048, activation='relu',\n",
    "                  bias_initializer='ones', kernel_initializer = 'glorot_normal')(x)\n",
    "    out = Dense(64*3, activation='relu',\n",
    "                  bias_initializer='ones', kernel_initializer = 'glorot_normal')(x)\n",
    "    return out\n",
    "\n",
    "# Create independent models\n",
    "model_a = Model(input_imgs, get_model_column(5, 3))\n",
    "model_b = Model(input_imgs, get_model_column(7, 5))\n",
    "model_c = Model(input_imgs, get_model_column(9, 7))\n"
   ]
  },
  {
   "cell_type": "markdown",
   "metadata": {},
   "source": [
    "### Training"
   ]
  },
  {
   "cell_type": "code",
   "execution_count": 5,
   "metadata": {},
   "outputs": [],
   "source": [
    "from keras import optimizers\n",
    "from keras import losses\n",
    "\n",
    "sgd = optimizers.SGD(lr=0.000001, decay=0.0001, momentum=0.9, nesterov=True)\n",
    "\n",
    "# compile model (abc)\n",
    "#model_abc.compile(optimizer= sgd, loss='mse')\n",
    "#model_abc.compile(optimizer= sgd, loss=losses.kullback_leibler_divergence)\n"
   ]
  },
  {
   "cell_type": "code",
   "execution_count": 6,
   "metadata": {},
   "outputs": [],
   "source": [
    "import matplotlib.pyplot as plt\n",
    "\n",
    "def pred_mc_indep_net(model, ii):\n",
    "    \n",
    "    y_pred = np.transpose(model.predict([[X_[ii]]]))\n",
    "\n",
    "    fig, ax = plt.subplots()\n",
    "    #y_pred[y_pred < 0] = 0\n",
    "    ax.plot(y_pred,'r')\n",
    "\n",
    "    ax.set(xlabel='intensity', ylabel='std',\n",
    "           title='pred nlf')\n",
    "    plt.show()\n",
    "\n",
    "    fig, ax = plt.subplots()\n",
    "    ax.plot(y_[ii],'r')\n",
    "\n",
    "    ax.set(xlabel='intensity', ylabel='std',\n",
    "           title='test nlf')\n",
    "    plt.show()\n",
    "    \n",
    "def train_indep_model(model, X_, y_, Xtest_, ytest_):\n",
    "    # Variables for convergence checking\n",
    "    converged = False\n",
    "\n",
    "    print()\n",
    "    std_thold = 0.001\n",
    "    \n",
    "    count = 0\n",
    "    hist_loss = []\n",
    "    hist_val_loss = []\n",
    "\n",
    "    while not converged:\n",
    "\n",
    "        print('Iteration ' + str(count+1))\n",
    "\n",
    "        # Training the model\n",
    "        history = model.fit(x=X_, y=y_, validation_data=(Xtest_, ytest_), \n",
    "                                epochs=1, shuffle=True, batch_size = 64)\n",
    "\n",
    "        pred_mc_indep_net(model, 0)\n",
    "\n",
    "        count += 1\n",
    "        mean_samples = 6\n",
    "\n",
    "        # Checking the convergence of the model using the standard deviation of the accuracy for some epochs\n",
    "        hist_loss.extend(history.history[\"loss\"])\n",
    "        hist_val_loss.extend(history.history[\"val_loss\"])    \n",
    "\n",
    "        used_hist_val_loss = hist_val_loss[max(0,len(hist_val_loss)-mean_samples):len(hist_val_loss)]\n",
    "\n",
    "        if len(used_hist_val_loss) >= mean_samples:\n",
    "            mean_acc = float(sum(np.asarray(used_hist_val_loss)))/float(len(used_hist_val_loss))\n",
    "            std_cutre = float(sum(np.abs(np.asarray(used_hist_val_loss)-mean_acc)))/float(len(used_hist_val_loss))\n",
    "\n",
    "            print(\"STD OF \" + str(len(used_hist_val_loss)) + ' SAMPLES: '),\n",
    "            print(std_cutre)\n",
    "\n",
    "            if std_cutre < std_thold or count > 2:\n",
    "                converged = True\n",
    "\n",
    "        else:\n",
    "            # converged = True # Useful for testing\n",
    "            print(\"Not enough samples to compute the STD :(\")\n",
    "\n",
    "        print('\\n')\n",
    "        \n",
    "        return model, hist_loss, hist_val_loss\n"
   ]
  },
  {
   "cell_type": "code",
   "execution_count": 7,
   "metadata": {},
   "outputs": [
    {
     "name": "stdout",
     "output_type": "stream",
     "text": [
      "_________________________________________________________________\n",
      "Layer (type)                 Output Shape              Param #   \n",
      "=================================================================\n",
      "input_1 (InputLayer)         (None, 256, 256, 3)       0         \n",
      "_________________________________________________________________\n",
      "conv2d_1 (Conv2D)            (None, 126, 126, 64)      4864      \n",
      "_________________________________________________________________\n",
      "batch_normalization_1 (Batch (None, 126, 126, 64)      256       \n",
      "_________________________________________________________________\n",
      "activation_1 (Activation)    (None, 126, 126, 64)      0         \n",
      "_________________________________________________________________\n",
      "average_pooling2d_1 (Average (None, 63, 63, 64)        0         \n",
      "_________________________________________________________________\n",
      "conv2d_2 (Conv2D)            (None, 61, 61, 64)        36928     \n",
      "_________________________________________________________________\n",
      "batch_normalization_2 (Batch (None, 61, 61, 64)        256       \n",
      "_________________________________________________________________\n",
      "activation_2 (Activation)    (None, 61, 61, 64)        0         \n",
      "_________________________________________________________________\n",
      "average_pooling2d_2 (Average (None, 30, 30, 64)        0         \n",
      "_________________________________________________________________\n",
      "conv2d_3 (Conv2D)            (None, 28, 28, 64)        36928     \n",
      "_________________________________________________________________\n",
      "batch_normalization_3 (Batch (None, 28, 28, 64)        256       \n",
      "_________________________________________________________________\n",
      "activation_3 (Activation)    (None, 28, 28, 64)        0         \n",
      "_________________________________________________________________\n",
      "conv2d_4 (Conv2D)            (None, 26, 26, 64)        36928     \n",
      "_________________________________________________________________\n",
      "batch_normalization_4 (Batch (None, 26, 26, 64)        256       \n",
      "_________________________________________________________________\n",
      "activation_4 (Activation)    (None, 26, 26, 64)        0         \n",
      "_________________________________________________________________\n",
      "flatten_1 (Flatten)          (None, 43264)             0         \n",
      "_________________________________________________________________\n",
      "dense_1 (Dense)              (None, 2048)              88606720  \n",
      "_________________________________________________________________\n",
      "dense_2 (Dense)              (None, 192)               393408    \n",
      "=================================================================\n",
      "Total params: 89,116,800\n",
      "Trainable params: 89,116,288\n",
      "Non-trainable params: 512\n",
      "_________________________________________________________________\n"
     ]
    }
   ],
   "source": [
    "model_a.summary()"
   ]
  },
  {
   "cell_type": "code",
   "execution_count": 8,
   "metadata": {},
   "outputs": [
    {
     "name": "stdout",
     "output_type": "stream",
     "text": [
      "\n",
      "Iteration 1\n",
      "WARNING:tensorflow:From /Users/Carlusaurio/.pyenv/versions/3.6.6/envs/venv_tfg/lib/python3.6/site-packages/tensorflow/python/ops/math_ops.py:3066: to_int32 (from tensorflow.python.ops.math_ops) is deprecated and will be removed in a future version.\n",
      "Instructions for updating:\n",
      "Use tf.cast instead.\n",
      "Train on 130 samples, validate on 25 samples\n",
      "Epoch 1/1\n",
      "130/130 [==============================] - 25s 189ms/step - loss: 4.5084 - val_loss: 4.2783\n"
     ]
    },
    {
     "data": {
      "image/png": "[encoded data removed]",
      "text/plain": [
       "<Figure size 432x288 with 1 Axes>"
      ]
     },
     "metadata": {
      "needs_background": "light"
     },
     "output_type": "display_data"
    },
    {
     "data": {
      "image/png": "[encoded data removed]",
      "text/plain": [
       "<Figure size 432x288 with 1 Axes>"
      ]
     },
     "metadata": {
      "needs_background": "light"
     },
     "output_type": "display_data"
    },
    {
     "name": "stdout",
     "output_type": "stream",
     "text": [
      "Not enough samples to compute the STD :(\n",
      "\n",
      "\n",
      "\n",
      "Iteration 1\n",
      "Train on 130 samples, validate on 25 samples\n",
      "Epoch 1/1\n",
      "130/130 [==============================] - 28s 213ms/step - loss: 4.3936 - val_loss: 3.6835\n"
     ]
    },
    {
     "data": {
      "image/png": "[encoded data removed]",
      "text/plain": [
       "<Figure size 432x288 with 1 Axes>"
      ]
     },
     "metadata": {
      "needs_background": "light"
     },
     "output_type": "display_data"
    },
    {
     "data": {
      "image/png": "[encoded data removed]",
      "text/plain": [
       "<Figure size 432x288 with 1 Axes>"
      ]
     },
     "metadata": {
      "needs_background": "light"
     },
     "output_type": "display_data"
    },
    {
     "name": "stdout",
     "output_type": "stream",
     "text": [
      "Not enough samples to compute the STD :(\n",
      "\n",
      "\n",
      "\n",
      "Iteration 1\n",
      "Train on 130 samples, validate on 25 samples\n",
      "Epoch 1/1\n",
      "130/130 [==============================] - 21s 159ms/step - loss: 4.5097 - val_loss: 4.3334\n"
     ]
    },
    {
     "data": {
      "image/png": "[encoded data removed]",
      "text/plain": [
       "<Figure size 432x288 with 1 Axes>"
      ]
     },
     "metadata": {
      "needs_background": "light"
     },
     "output_type": "display_data"
    },
    {
     "data": {
      "image/png": "[encoded data removed]",
      "text/plain": [
       "<Figure size 432x288 with 1 Axes>"
      ]
     },
     "metadata": {
      "needs_background": "light"
     },
     "output_type": "display_data"
    },
    {
     "name": "stdout",
     "output_type": "stream",
     "text": [
      "Not enough samples to compute the STD :(\n",
      "\n",
      "\n"
     ]
    }
   ],
   "source": [
    "# Train model A\n",
    "model_a.compile(optimizer= sgd, loss='mse')\n",
    "model_a, hist_loss_a, hist_val_loss_a = train_indep_model(model_a, X_, y_, Xtest_, ytest_)\n",
    "# Train model B\n",
    "model_b.compile(optimizer= sgd, loss='mse')\n",
    "model_b, hist_loss_b, hist_val_loss_b = train_indep_model(model_b, X_, y_, Xtest_, ytest_)\n",
    "# Train model C\n",
    "model_c.compile(optimizer= sgd, loss='mse')\n",
    "model_c, hist_loss_c, hist_val_loss_c = train_indep_model(model_a, X_, y_, Xtest_, ytest_)"
   ]
  },
  {
   "cell_type": "code",
   "execution_count": 12,
   "metadata": {},
   "outputs": [
    {
     "data": {
      "text/plain": [
       "<keras.layers.core.Dense at 0x18b7b4c18>"
      ]
     },
     "execution_count": 12,
     "metadata": {},
     "output_type": "execute_result"
    }
   ],
   "source": [
    "model_a.layers.pop()\n",
    "model_a.layers.pop()\n",
    "model_b.layers.pop()\n",
    "model_b.layers.pop()\n",
    "model_c.layers.pop()\n",
    "model_c.layers.pop()"
   ]
  },
  {
   "cell_type": "code",
   "execution_count": 13,
   "metadata": {},
   "outputs": [
    {
     "name": "stdout",
     "output_type": "stream",
     "text": [
      "_________________________________________________________________\n",
      "Layer (type)                 Output Shape              Param #   \n",
      "=================================================================\n",
      "input_2 (InputLayer)         (None, 256, 256, 3)       0         \n",
      "_________________________________________________________________\n",
      "conv2d_13 (Conv2D)           (None, 126, 126, 64)      4864      \n",
      "_________________________________________________________________\n",
      "batch_normalization_13 (Batc (None, 126, 126, 64)      256       \n",
      "_________________________________________________________________\n",
      "activation_13 (Activation)   (None, 126, 126, 64)      0         \n",
      "_________________________________________________________________\n",
      "average_pooling2d_7 (Average (None, 63, 63, 64)        0         \n",
      "_________________________________________________________________\n",
      "conv2d_14 (Conv2D)           (None, 61, 61, 64)        36928     \n",
      "_________________________________________________________________\n",
      "batch_normalization_14 (Batc (None, 61, 61, 64)        256       \n",
      "_________________________________________________________________\n",
      "activation_14 (Activation)   (None, 61, 61, 64)        0         \n",
      "_________________________________________________________________\n",
      "average_pooling2d_8 (Average (None, 30, 30, 64)        0         \n",
      "_________________________________________________________________\n",
      "conv2d_15 (Conv2D)           (None, 28, 28, 64)        36928     \n",
      "_________________________________________________________________\n",
      "batch_normalization_15 (Batc (None, 28, 28, 64)        256       \n",
      "_________________________________________________________________\n",
      "activation_15 (Activation)   (None, 28, 28, 64)        0         \n",
      "_________________________________________________________________\n",
      "conv2d_16 (Conv2D)           (None, 26, 26, 64)        36928     \n",
      "_________________________________________________________________\n",
      "batch_normalization_16 (Batc (None, 26, 26, 64)        256       \n",
      "_________________________________________________________________\n",
      "activation_16 (Activation)   (None, 26, 26, 64)        0         \n",
      "_________________________________________________________________\n",
      "flatten_4 (Flatten)          (None, 43264)             0         \n",
      "=================================================================\n",
      "Total params: 116,672\n",
      "Trainable params: 116,160\n",
      "Non-trainable params: 512\n",
      "_________________________________________________________________\n",
      "_________________________________________________________________\n",
      "Layer (type)                 Output Shape              Param #   \n",
      "=================================================================\n",
      "input_2 (InputLayer)         (None, 256, 256, 3)       0         \n",
      "_________________________________________________________________\n",
      "conv2d_17 (Conv2D)           (None, 125, 125, 64)      9472      \n",
      "_________________________________________________________________\n",
      "batch_normalization_17 (Batc (None, 125, 125, 64)      256       \n",
      "_________________________________________________________________\n",
      "activation_17 (Activation)   (None, 125, 125, 64)      0         \n",
      "_________________________________________________________________\n",
      "average_pooling2d_9 (Average (None, 62, 62, 64)        0         \n",
      "_________________________________________________________________\n",
      "conv2d_18 (Conv2D)           (None, 58, 58, 64)        102464    \n",
      "_________________________________________________________________\n",
      "batch_normalization_18 (Batc (None, 58, 58, 64)        256       \n",
      "_________________________________________________________________\n",
      "activation_18 (Activation)   (None, 58, 58, 64)        0         \n",
      "_________________________________________________________________\n",
      "average_pooling2d_10 (Averag (None, 29, 29, 64)        0         \n",
      "_________________________________________________________________\n",
      "conv2d_19 (Conv2D)           (None, 25, 25, 64)        102464    \n",
      "_________________________________________________________________\n",
      "batch_normalization_19 (Batc (None, 25, 25, 64)        256       \n",
      "_________________________________________________________________\n",
      "activation_19 (Activation)   (None, 25, 25, 64)        0         \n",
      "_________________________________________________________________\n",
      "conv2d_20 (Conv2D)           (None, 21, 21, 64)        102464    \n",
      "_________________________________________________________________\n",
      "batch_normalization_20 (Batc (None, 21, 21, 64)        256       \n",
      "_________________________________________________________________\n",
      "activation_20 (Activation)   (None, 21, 21, 64)        0         \n",
      "_________________________________________________________________\n",
      "flatten_5 (Flatten)          (None, 28224)             0         \n",
      "=================================================================\n",
      "Total params: 317,888\n",
      "Trainable params: 317,376\n",
      "Non-trainable params: 512\n",
      "_________________________________________________________________\n",
      "_________________________________________________________________\n",
      "Layer (type)                 Output Shape              Param #   \n",
      "=================================================================\n",
      "input_2 (InputLayer)         (None, 256, 256, 3)       0         \n",
      "_________________________________________________________________\n",
      "conv2d_21 (Conv2D)           (None, 124, 124, 64)      15616     \n",
      "_________________________________________________________________\n",
      "batch_normalization_21 (Batc (None, 124, 124, 64)      256       \n",
      "_________________________________________________________________\n",
      "activation_21 (Activation)   (None, 124, 124, 64)      0         \n",
      "_________________________________________________________________\n",
      "average_pooling2d_11 (Averag (None, 62, 62, 64)        0         \n",
      "_________________________________________________________________\n",
      "conv2d_22 (Conv2D)           (None, 56, 56, 64)        200768    \n",
      "_________________________________________________________________\n",
      "batch_normalization_22 (Batc (None, 56, 56, 64)        256       \n",
      "_________________________________________________________________\n",
      "activation_22 (Activation)   (None, 56, 56, 64)        0         \n",
      "_________________________________________________________________\n",
      "average_pooling2d_12 (Averag (None, 28, 28, 64)        0         \n",
      "_________________________________________________________________\n",
      "conv2d_23 (Conv2D)           (None, 22, 22, 64)        200768    \n",
      "_________________________________________________________________\n",
      "batch_normalization_23 (Batc (None, 22, 22, 64)        256       \n",
      "_________________________________________________________________\n",
      "activation_23 (Activation)   (None, 22, 22, 64)        0         \n",
      "_________________________________________________________________\n",
      "conv2d_24 (Conv2D)           (None, 16, 16, 64)        200768    \n",
      "_________________________________________________________________\n",
      "batch_normalization_24 (Batc (None, 16, 16, 64)        256       \n",
      "_________________________________________________________________\n",
      "activation_24 (Activation)   (None, 16, 16, 64)        0         \n",
      "_________________________________________________________________\n",
      "flatten_6 (Flatten)          (None, 16384)             0         \n",
      "=================================================================\n",
      "Total params: 618,944\n",
      "Trainable params: 618,432\n",
      "Non-trainable params: 512\n",
      "_________________________________________________________________\n"
     ]
    }
   ],
   "source": [
    "model_a.summary()\n",
    "model_b.summary()\n",
    "model_c.summary()"
   ]
  },
  {
   "cell_type": "code",
   "execution_count": 14,
   "metadata": {},
   "outputs": [],
   "source": [
    "# Then define the input-apart model\n",
    "input_a = Input(shape=(256, 256, 3))\n",
    "input_b = Input(shape=(256, 256, 3)) \n",
    "input_c = Input(shape=(256, 256, 3)) \n",
    "\n",
    "# The vision model will be shared, weights and all\n",
    "out_a = model_a(input_a)\n",
    "out_b = model_b(input_b)\n",
    "out_c = model_c(input_c)\n",
    "\n",
    "concatenated = concatenate([out_a, out_b, out_c],axis=1)\n",
    "merge_abc = Dense(2048, activation='relu',\n",
    "                  bias_initializer='ones', kernel_initializer = 'glorot_normal')(concatenated)\n",
    "merge_abc = Dense(64*3, activation='relu',\n",
    "                  bias_initializer='ones', kernel_initializer = 'glorot_normal')(merge_abc)\n",
    "model_abc = Model([input_a, input_b, input_c], merge_abc)"
   ]
  },
  {
   "cell_type": "code",
   "execution_count": 15,
   "metadata": {},
   "outputs": [
    {
     "name": "stdout",
     "output_type": "stream",
     "text": [
      "__________________________________________________________________________________________________\n",
      "Layer (type)                    Output Shape         Param #     Connected to                     \n",
      "==================================================================================================\n",
      "input_3 (InputLayer)            (None, 256, 256, 3)  0                                            \n",
      "__________________________________________________________________________________________________\n",
      "input_4 (InputLayer)            (None, 256, 256, 3)  0                                            \n",
      "__________________________________________________________________________________________________\n",
      "input_5 (InputLayer)            (None, 256, 256, 3)  0                                            \n",
      "__________________________________________________________________________________________________\n",
      "model_4 (Model)                 (None, 192)          116672      input_3[0][0]                    \n",
      "__________________________________________________________________________________________________\n",
      "model_5 (Model)                 (None, 192)          317888      input_4[0][0]                    \n",
      "__________________________________________________________________________________________________\n",
      "model_6 (Model)                 (None, 192)          618944      input_5[0][0]                    \n",
      "__________________________________________________________________________________________________\n",
      "concatenate_1 (Concatenate)     (None, 576)          0           model_4[1][0]                    \n",
      "                                                                 model_5[1][0]                    \n",
      "                                                                 model_6[1][0]                    \n",
      "__________________________________________________________________________________________________\n",
      "dense_13 (Dense)                (None, 2048)         1181696     concatenate_1[0][0]              \n",
      "__________________________________________________________________________________________________\n",
      "dense_14 (Dense)                (None, 192)          393408      dense_13[0][0]                   \n",
      "==================================================================================================\n",
      "Total params: 2,628,608\n",
      "Trainable params: 2,627,072\n",
      "Non-trainable params: 1,536\n",
      "__________________________________________________________________________________________________\n"
     ]
    }
   ],
   "source": [
    "model_abc.summary()"
   ]
  },
  {
   "cell_type": "code",
   "execution_count": null,
   "metadata": {},
   "outputs": [
    {
     "name": "stdout",
     "output_type": "stream",
     "text": [
      "\n",
      "Iteration 1\n",
      "Train on 130 samples, validate on 25 samples\n",
      "Epoch 1/1\n",
      " 64/130 [=============>................] - ETA: 52s - loss: 5.9477"
     ]
    }
   ],
   "source": [
    "# Train model ABC\n",
    "model_abc.compile(optimizer= sgd, loss='mse')\n",
    "model_abc, hist_loss_abc, hist_val_loss_abc = train_indep_model(model_abc, [X_,X_,X_], y_, \n",
    "                                                                [Xtest_,Xtest_,Xtest_], ytest_)"
   ]
  },
  {
   "cell_type": "code",
   "execution_count": null,
   "metadata": {},
   "outputs": [],
   "source": [
    "import matplotlib.pyplot as plt\n",
    "ii = 27\n",
    "\n",
    "y_pred = np.transpose(model_abc.predict([[X_[ii]],[X_[ii]],[X_[ii]]]))\n",
    "\n",
    "fig, ax = plt.subplots()\n",
    "#y_pred[y_pred < 0] = 0\n",
    "ax.plot(y_pred,'r')\n",
    "\n",
    "ax.set(xlabel='intensity', ylabel='std',\n",
    "       title='pred nlf')\n",
    "plt.show()\n",
    "\n",
    "fig, ax = plt.subplots()\n",
    "ax.plot(y_[ii],'r')\n",
    "\n",
    "ax.set(xlabel='intensity', ylabel='std',\n",
    "       title='test nlf')\n",
    "plt.show()"
   ]
  },
  {
   "cell_type": "code",
   "execution_count": null,
   "metadata": {},
   "outputs": [],
   "source": [
    "# summarize history for loss\n",
    "plt.plot(history3.history['loss'])\n",
    "plt.plot(history3.history['val_loss'])\n",
    "plt.title('model loss')\n",
    "plt.ylabel('loss')\n",
    "plt.xlabel('epoch')\n",
    "plt.legend(['train', 'test'], loc='upper left')\n",
    "plt.show()"
   ]
  },
  {
   "cell_type": "code",
   "execution_count": null,
   "metadata": {},
   "outputs": [],
   "source": [
    "from keras.utils import plot_model\n",
    "\n",
    "plot_model(model_abc, to_file='model_plot.png', show_shapes=True, show_layer_names=True)\n"
   ]
  },
  {
   "cell_type": "code",
   "execution_count": null,
   "metadata": {},
   "outputs": [],
   "source": [
    "from keras import backend as K\n",
    "K.tensorflow_backend._get_available_gpus()"
   ]
  },
  {
   "cell_type": "code",
   "execution_count": null,
   "metadata": {},
   "outputs": [],
   "source": [
    "import numpy as np\n",
    "from scipy.signal import butter, lfilter, freqz\n",
    "import matplotlib.pyplot as plt\n",
    "import scipy.io\n",
    "\n",
    "\n",
    "scene = 'Scene_21'\n",
    "nlf_path = '../Dataset_Final/NLFs/NLF_' + scene + '.mat'\n",
    "mat = scipy.io.loadmat('../Dataset_Final/NLFs/NLF_' + scene + '.mat')\n",
    "NLF = mat[\"NLF\"][0]\n",
    "NLF_r = np.nan_to_num(NLF[0:256])\n",
    "\n",
    "def butter_lowpass(cutoff, fs, order=5):\n",
    "    nyq = 0.5 * fs\n",
    "    normal_cutoff = cutoff / nyq\n",
    "    b, a = butter(order, normal_cutoff, btype='low', analog=False)\n",
    "    return b, a\n",
    "\n",
    "def butter_lowpass_filter(data, cutoff, fs, order=5):\n",
    "    b, a = butter_lowpass(cutoff, fs, order=order)\n",
    "    y = lfilter(b, a, data)\n",
    "    return y,b,a\n",
    "\n",
    "order = 5\n",
    "fs = 30    # sample rate, Hz\n",
    "cutoff = 2\n",
    "y,b,a = butter_lowpass_filter(NLF_r, cutoff, fs, order)\n",
    "\n",
    "# Plot the frequency response.\n",
    "w, h = freqz(b, a, worN=8000)\n",
    "\n",
    "plt.plot(0.5*fs*w/np.pi, np.abs(h), 'b')\n",
    "plt.plot(cutoff, 0.5*np.sqrt(2), 'ko')\n",
    "plt.axvline(cutoff, color='k')\n",
    "plt.xlim(0, 0.5*fs)\n",
    "plt.title(\"Lowpass Filter Frequency Response\")\n",
    "plt.xlabel('Frequency [Hz]')\n",
    "plt.grid()\n",
    "\n",
    "fig, ax = plt.subplots()\n",
    "ax.plot(y,'r')\n",
    "\n",
    "ax.set(xlabel='intensity', ylabel='std',\n",
    "       title='test nlf filtered')\n",
    "plt.show()\n",
    "\n",
    "fig, ax = plt.subplots()\n",
    "ax.plot(NLF_r,'r')\n",
    "\n",
    "ax.set(xlabel='intensity', ylabel='std',\n",
    "       title='test nlf')\n",
    "plt.show()"
   ]
  },
  {
   "cell_type": "code",
   "execution_count": null,
   "metadata": {},
   "outputs": [],
   "source": []
  }
 ],
 "metadata": {
  "kernelspec": {
   "display_name": "venv_tfg",
   "language": "python",
   "name": "venv_tfg"
  },
  "language_info": {
   "codemirror_mode": {
    "name": "ipython",
    "version": 3
   },
   "file_extension": ".py",
   "mimetype": "text/x-python",
   "name": "python",
   "nbconvert_exporter": "python",
   "pygments_lexer": "ipython3",
   "version": "3.6.6"
  }
 },
 "nbformat": 4,
 "nbformat_minor": 2
}
