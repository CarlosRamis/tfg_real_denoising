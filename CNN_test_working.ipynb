{
 "cells": [
  {
   "cell_type": "code",
   "execution_count": 1,
   "metadata": {},
   "outputs": [
    {
     "name": "stdout",
     "output_type": "stream",
     "text": [
      "../Dataset_CNN/Scene_30/\n",
      "../Dataset_CNN/Scene_35/\n",
      "../Dataset_CNN/Scene_36/\n",
      "../Dataset_CNN/Scene_21/\n",
      "../Dataset_CNN/Scene_33/\n",
      "../Dataset_CNN/Scene_07/\n",
      "../Dataset_CNN/Scene_32/\n",
      "../Dataset_CNN/Scene_34/\n",
      "../Dataset_CNN/Scene_11/\n",
      "../Dataset_CNN/Scene_10/\n",
      "../Dataset_CNN/Scene_13/\n",
      "../Dataset_CNN/Scene_31/\n",
      "../Dataset_CNN/Scene_08/\n",
      "../Dataset_CNN/Scene_23/\n",
      "../Dataset_CNN/Scene_15/\n",
      "../Dataset_CNN/Scene_24/\n",
      "../Dataset_CNN/Scene_19/\n",
      "../Dataset_CNN/Scene_22/\n",
      "../Dataset_CNN/Scene_20/\n",
      "../Dataset_CNN/Scene_12/\n",
      "../Dataset_CNN/Scene_09/\n",
      "../Dataset_CNN/Scene_26/\n",
      "../Dataset_CNN/Scene_06/\n",
      "../Dataset_CNN/Scene_28/\n",
      "../Dataset_CNN/Scene_18/\n",
      "../Dataset_CNN/Scene_29/\n",
      "../Dataset_CNN/Scene_17/\n",
      "../Dataset_CNN/Scene_27/\n",
      "../Dataset_CNN/Scene_16/\n",
      "../Dataset_CNN/Scene_14/\n",
      "../Dataset_CNN/Scene_25/\n",
      "../Dataset_CNN/Scene_05/\n"
     ]
    }
   ],
   "source": [
    "import matplotlib.pyplot as plt\n",
    "from glob import glob\n",
    "import numpy as np\n",
    "import scipy.io, cv2\n",
    "\n",
    "# Find images path\n",
    "scene_paths = glob('../Dataset_CNN/*/')\n",
    "\n",
    "# Fulfill data\n",
    "X_ = []\n",
    "y_ = []\n",
    "Xtest_ = []\n",
    "ytest_ = []\n",
    "\n",
    "max_values_y = []\n",
    "normalize = True\n",
    "\n",
    "for scene in scene_paths:\n",
    "    print(scene)\n",
    "    windows_path = glob(scene + '*')\n",
    "    \n",
    "    for window in windows_path:\n",
    "        images_ref_path = glob(window + '/w_*.jpg')\n",
    "        NLF_path = window + '/NLF_filtered.mat'\n",
    "        \n",
    "        mat = scipy.io.loadmat(NLF_path)\n",
    "        NLF = (mat[\"NLF_step_filt\"][0])\n",
    "        NLF[np.isnan(NLF)] = 0\n",
    "        \n",
    "        max_values_y.append(max(NLF[0:64]))\n",
    "        \n",
    "        for img_ref in images_ref_path[0:5]:\n",
    "            img = plt.imread(img_ref)\n",
    "            \n",
    "            if normalize:\n",
    "                img = np.float16(img/255)\n",
    "            \n",
    "            X_.append(img)\n",
    "            y_.append(NLF[0:64]) #*100\n",
    "            \n",
    "        for img_ref in images_ref_path[8:9]:\n",
    "            img = plt.imread(img_ref)\n",
    "            \n",
    "            if normalize:\n",
    "                img = np.float16(img/255)\n",
    "            \n",
    "            Xtest_.append(img)\n",
    "            ytest_.append(NLF[0:64])\n",
    "            \n",
    "        "
   ]
  },
  {
   "cell_type": "code",
   "execution_count": 3,
   "metadata": {},
   "outputs": [
    {
     "name": "stdout",
     "output_type": "stream",
     "text": [
      "0.022705713591474764\n",
      "0.022705713591474764\n"
     ]
    }
   ],
   "source": [
    "maxmax_y_ = max(max_values_y)\n",
    "print(y_[0][60])\n",
    "for y in y_:\n",
    "    y = y/maxmax_y_\n",
    "    \n",
    "print(y_[0][60])"
   ]
  },
  {
   "cell_type": "code",
   "execution_count": 4,
   "metadata": {},
   "outputs": [],
   "source": [
    "X_ = np.asarray(X_)\n",
    "y_ = np.asarray(y_)\n",
    "\n",
    "Xtest_ = np.asarray(Xtest_)\n",
    "ytest_ = np.asarray(ytest_)\n"
   ]
  },
  {
   "cell_type": "code",
   "execution_count": 5,
   "metadata": {},
   "outputs": [
    {
     "name": "stdout",
     "output_type": "stream",
     "text": [
      "(34560, 256, 256, 3)\n",
      "(34560, 64)\n",
      "\n",
      "(6912, 256, 256, 3)\n",
      "(6912, 64)\n"
     ]
    }
   ],
   "source": [
    "print(np.shape(X_))\n",
    "print(np.shape(y_))\n",
    "print()\n",
    "print(np.shape(Xtest_))\n",
    "print(np.shape(ytest_))"
   ]
  },
  {
   "cell_type": "markdown",
   "metadata": {},
   "source": [
    "### Crear modelo"
   ]
  },
  {
   "cell_type": "code",
   "execution_count": 6,
   "metadata": {},
   "outputs": [
    {
     "name": "stderr",
     "output_type": "stream",
     "text": [
      "Using TensorFlow backend.\n"
     ]
    },
    {
     "name": "stdout",
     "output_type": "stream",
     "text": [
      "WARNING:tensorflow:From /home/plyzer-ai/anaconda3/envs/carlus/lib/python3.6/site-packages/tensorflow/python/framework/op_def_library.py:263: colocate_with (from tensorflow.python.framework.ops) is deprecated and will be removed in a future version.\n",
      "Instructions for updating:\n",
      "Colocations handled automatically by placer.\n"
     ]
    }
   ],
   "source": [
    "from keras.layers import Conv2D, MaxPooling2D, Input, Dense, Flatten, Reshape, LeakyReLU\n",
    "from keras.layers import concatenate, AveragePooling2D, Activation, BatchNormalization\n",
    "from keras.models import Model\n",
    "from SpatialPyramidPooling import SpatialPyramidPooling\n",
    "import keras\n",
    "# First, define the vision modules\n",
    "input_imgs = Input(shape=(256, 256, 3))\n",
    "\n",
    "# Model\n",
    "def get_model_column(ks_1, ks_2,p_):\n",
    "    x = Conv2D(64, kernel_size=(ks_1,ks_1), strides = 2, activation=None, \n",
    "               bias_initializer='ones', kernel_initializer = 'glorot_normal')(input_imgs)\n",
    "    x = BatchNormalization()(x)\n",
    "    x = Activation('relu')(x)\n",
    "    x = AveragePooling2D((2, 2))(x)\n",
    "    x = Conv2D(64, kernel_size=(ks_2,ks_2), activation=None, \n",
    "               bias_initializer='ones', kernel_initializer = 'glorot_normal')(x) # conv2_a\n",
    "    x = BatchNormalization()(x)\n",
    "    x = Activation('relu')(x)\n",
    "    x = AveragePooling2D((2, 2))(x) # pool2_a\n",
    "    x = Conv2D(64, kernel_size=(ks_2,ks_2), activation=None,  \n",
    "               bias_initializer='ones', kernel_initializer = 'glorot_normal')(x) # conv2_a\n",
    "    x = BatchNormalization()(x)\n",
    "    x = Activation('relu')(x)\n",
    "    x = Conv2D(64, kernel_size=(ks_2,ks_2), activation=None,  \n",
    "               bias_initializer='ones', kernel_initializer = 'glorot_normal')(x) # conv2_a\n",
    "    x = BatchNormalization()(x)\n",
    "    x = Activation('relu')(x)\n",
    "    #out = keras.layers.ZeroPadding2D(padding=((p_, 0), (0, p_)), data_format=None)(x)\n",
    "    out = Flatten()(x)\n",
    "    return out\n",
    "\n",
    "vision_model1 = Model(input_imgs, get_model_column(5, 3, 0))\n",
    "vision_model2 = Model(input_imgs, get_model_column(7, 5, 5))\n",
    "vision_model3 = Model(input_imgs, get_model_column(9, 7, 10))\n",
    "\n",
    "# Then define the input-apart model\n",
    "input_a = Input(shape=(256, 256, 3))\n",
    "input_b = Input(shape=(256, 256, 3)) #shape=(300, 300, 3))\n",
    "input_c = Input(shape=(256, 256, 3)) #shape=(340, 340, 3))\n",
    "\n",
    "# The vision model will be shared, weights and all\n",
    "out_a = vision_model1(input_a)\n",
    "out_b = vision_model2(input_b)\n",
    "out_c = vision_model3(input_c)\n",
    "\n",
    "concatenated = concatenate([out_a, out_b, out_c],axis=1)\n",
    "#out = Dense(1, activation='sigmoid')(concatenated)\n",
    "#merge_abc = SpatialPyramidPooling([1, 2, 4])(concatenated)\n",
    "merge_abc = Dense(2048, activation='relu',\n",
    "                  bias_initializer='ones', kernel_initializer = 'glorot_normal')(concatenated)\n",
    "#merge_abc = Dense(256*3, activation='relu')(merge_abc)\n",
    "merge_abc = Dense(64, activation='relu',\n",
    "                  bias_initializer='ones', kernel_initializer = 'glorot_normal')(merge_abc)\n",
    "#merge_abc = LeakyReLU(alpha = 0.1)(merge_abc)\n",
    "\n",
    "model_abc = Model([input_a, input_b, input_c], merge_abc)"
   ]
  },
  {
   "cell_type": "markdown",
   "metadata": {},
   "source": [
    "### Training"
   ]
  },
  {
   "cell_type": "code",
   "execution_count": 7,
   "metadata": {},
   "outputs": [],
   "source": [
    "from keras import optimizers\n",
    "from keras import losses\n",
    "\n",
    "sgd = optimizers.SGD(lr=0.0001, decay=0.0001, momentum=0.9, nesterov=True)\n",
    "\n",
    "# compile model (abc)\n",
    "model_abc.compile(optimizer= sgd, loss='mse')\n",
    "#model_abc.compile(optimizer= sgd, loss=losses.kullback_leibler_divergence)\n"
   ]
  },
  {
   "cell_type": "code",
   "execution_count": 6,
   "metadata": {},
   "outputs": [
    {
     "data": {
      "text/plain": [
       "'# Make model_a non trainable\\nmodel_abc.layers[3].trainable = False\\nmodel_abc.layers[4].trainable = False\\n#model_abc.fit(x=[X_,X_,X_], y=y_, batch_size=64, epochs=10, validation_split=0.1, shuffle=True)\\nmodel_abc.fit(x=[X_,X_,X_], y=y_, validation_data=([Xtest_,Xtest_,Xtest_], ytest_),batch_size=64, epochs=30, shuffle=True)\\n\\n# Make model_a non trainable\\nmodel_abc.layers[3].trainable = False\\nmodel_abc.layers[4].trainable = True\\nmodel_abc.layers[5].trainable = False\\n#model_abc.fit(x=[X_,X_,X_], y=y_, batch_size=64, epochs=10, validation_split=0.1, shuffle=True)\\nmodel_abc.fit(x=[X_,X_,X_], y=y_, validation_data=([Xtest_,Xtest_,Xtest_], ytest_),batch_size=64, epochs=30, shuffle=True)\\n\\n# Make model_a non trainable\\nmodel_abc.layers[3].trainable = True\\nmodel_abc.layers[4].trainable = False\\nmodel_abc.layers[5].trainable = False\\n#model_abc.fit(x=[X_,X_,X_], y=y_, batch_size=64, epochs=10, validation_split=0.1, shuffle=True)'"
      ]
     },
     "execution_count": 6,
     "metadata": {},
     "output_type": "execute_result"
    }
   ],
   "source": [
    "'''# Make model_a non trainable\n",
    "model_abc.layers[3].trainable = False\n",
    "model_abc.layers[4].trainable = False\n",
    "#model_abc.fit(x=[X_,X_,X_], y=y_, batch_size=64, epochs=10, validation_split=0.1, shuffle=True)\n",
    "model_abc.fit(x=[X_,X_,X_], y=y_, validation_data=([Xtest_,Xtest_,Xtest_], ytest_),batch_size=64, epochs=30, shuffle=True)\n",
    "\n",
    "# Make model_a non trainable\n",
    "model_abc.layers[3].trainable = False\n",
    "model_abc.layers[4].trainable = True\n",
    "model_abc.layers[5].trainable = False\n",
    "#model_abc.fit(x=[X_,X_,X_], y=y_, batch_size=64, epochs=10, validation_split=0.1, shuffle=True)\n",
    "model_abc.fit(x=[X_,X_,X_], y=y_, validation_data=([Xtest_,Xtest_,Xtest_], ytest_),batch_size=64, epochs=30, shuffle=True)\n",
    "\n",
    "# Make model_a non trainable\n",
    "model_abc.layers[3].trainable = True\n",
    "model_abc.layers[4].trainable = False\n",
    "model_abc.layers[5].trainable = False\n",
    "#model_abc.fit(x=[X_,X_,X_], y=y_, batch_size=64, epochs=10, validation_split=0.1, shuffle=True)'''\n",
    "#model_abc.fit(x=[X_,X_,X_], y=y_, validation_data=([Xtest_,Xtest_,Xtest_], ytest_),batch_size=64, epochs=30, shuffle=True)\n"
   ]
  },
  {
   "cell_type": "code",
   "execution_count": 8,
   "metadata": {},
   "outputs": [],
   "source": [
    "import matplotlib.pyplot as plt\n",
    "\n",
    "def pred_mc_net(model, ii):\n",
    "    \n",
    "    y_pred = np.transpose(model.predict([[X_[ii]],[X_[ii]],[X_[ii]]]))\n",
    "\n",
    "    fig, ax = plt.subplots()\n",
    "    y_pred[y_pred < 0] = 0\n",
    "    ax.plot(y_pred,'r')\n",
    "\n",
    "    ax.set(xlabel='intensity', ylabel='std',\n",
    "           title='pred nlf')\n",
    "    plt.show()\n",
    "\n",
    "    fig, ax = plt.subplots()\n",
    "    ax.plot(y_[ii],'r')\n",
    "\n",
    "    ax.set(xlabel='intensity', ylabel='std',\n",
    "           title='test nlf')\n",
    "    plt.show()\n",
    "    "
   ]
  },
  {
   "cell_type": "code",
   "execution_count": 9,
   "metadata": {},
   "outputs": [],
   "source": [
    "count = 0\n",
    "hist_loss = []\n",
    "hist_val_loss = []"
   ]
  },
  {
   "cell_type": "code",
   "execution_count": null,
   "metadata": {},
   "outputs": [
    {
     "name": "stdout",
     "output_type": "stream",
     "text": [
      "\n",
      "Iteration 1\n",
      "WARNING:tensorflow:From /home/plyzer-ai/anaconda3/envs/carlus/lib/python3.6/site-packages/tensorflow/python/ops/math_ops.py:3066: to_int32 (from tensorflow.python.ops.math_ops) is deprecated and will be removed in a future version.\n",
      "Instructions for updating:\n",
      "Use tf.cast instead.\n",
      "Train on 34560 samples, validate on 6912 samples\n",
      "Epoch 1/1\n",
      "34496/34560 [============================>.] - ETA: 0s - loss: 0.0263"
     ]
    }
   ],
   "source": [
    "# Variables for convergence checking\n",
    "converged = False\n",
    "\n",
    "print()\n",
    "std_thold = 0.001\n",
    "\n",
    "while not converged:\n",
    "\n",
    "    print('Iteration ' + str(count+1))\n",
    "\n",
    "    # Training the model\n",
    "    history = model_abc.fit(x=[X_,X_,X_], y=y_, validation_data=([Xtest_,Xtest_,Xtest_], ytest_), \n",
    "                            epochs=1, shuffle=True, batch_size = 64)\n",
    "            \n",
    "    pred_mc_net(model_abc, 0)\n",
    "        \n",
    "    count += 1\n",
    "    mean_samples = 6\n",
    "\n",
    "    # Checking the convergence of the model using the standard deviation of the accuracy for some epochs\n",
    "    hist_loss.extend(history.history[\"loss\"])\n",
    "    hist_val_loss.extend(history.history[\"val_loss\"])    \n",
    "    \n",
    "    used_hist_val_loss = hist_val_loss[max(0,len(hist_val_loss)-mean_samples):len(hist_val_loss)]\n",
    "\n",
    "    if len(used_hist_val_loss) >= mean_samples:\n",
    "        mean_acc = float(sum(np.asarray(used_hist_val_loss)))/float(len(used_hist_val_loss))\n",
    "        std_cutre = float(sum(np.abs(np.asarray(used_hist_val_loss)-mean_acc)))/float(len(used_hist_val_loss))\n",
    "\n",
    "        print(\"STD OF \" + str(len(used_hist_val_loss)) + ' SAMPLES: '),\n",
    "        print(std_cutre)\n",
    "\n",
    "        if std_cutre < std_thold or count > 20:\n",
    "            converged = True\n",
    "            \n",
    "    else:\n",
    "        # converged = True # Useful for testing\n",
    "        print(\"Not enough samples to compute the STD :(\")\n",
    "\n",
    "    print('\\n')"
   ]
  },
  {
   "cell_type": "code",
   "execution_count": 9,
   "metadata": {},
   "outputs": [
    {
     "data": {
      "image/png": "[encoded data removed]",
      "text/plain": [
       "<Figure size 432x288 with 1 Axes>"
      ]
     },
     "metadata": {
      "needs_background": "light"
     },
     "output_type": "display_data"
    }
   ],
   "source": [
    "# summarize history for loss\n",
    "plt.plot(hist_loss)\n",
    "plt.plot(hist_val_loss)\n",
    "plt.title('model loss')\n",
    "plt.ylabel('loss')\n",
    "plt.xlabel('epoch')\n",
    "plt.legend(['train', 'test'], loc='upper left')\n",
    "plt.show()"
   ]
  },
  {
   "cell_type": "code",
   "execution_count": 13,
   "metadata": {},
   "outputs": [
    {
     "data": {
      "image/png": "[encoded data removed]",
      "text/plain": [
       "<Figure size 432x288 with 1 Axes>"
      ]
     },
     "metadata": {
      "needs_background": "light"
     },
     "output_type": "display_data"
    },
    {
     "data": {
      "image/png": "[encoded data removed]",
      "text/plain": [
       "<Figure size 432x288 with 1 Axes>"
      ]
     },
     "metadata": {
      "needs_background": "light"
     },
     "output_type": "display_data"
    }
   ],
   "source": [
    "pred_mc_net(model_abc,30008)"
   ]
  },
  {
   "cell_type": "code",
   "execution_count": 5,
   "metadata": {},
   "outputs": [
    {
     "name": "stdout",
     "output_type": "stream",
     "text": [
      "_________________________________________________________________\n",
      "Layer (type)                 Output Shape              Param #   \n",
      "=================================================================\n",
      "input_1 (InputLayer)         (None, 256, 256, 3)       0         \n",
      "_________________________________________________________________\n",
      "conv2d_1 (Conv2D)            (None, 126, 126, 64)      4864      \n",
      "_________________________________________________________________\n",
      "batch_normalization_1 (Batch (None, 126, 126, 64)      256       \n",
      "_________________________________________________________________\n",
      "activation_1 (Activation)    (None, 126, 126, 64)      0         \n",
      "_________________________________________________________________\n",
      "average_pooling2d_1 (Average (None, 63, 63, 64)        0         \n",
      "_________________________________________________________________\n",
      "conv2d_2 (Conv2D)            (None, 61, 61, 64)        36928     \n",
      "_________________________________________________________________\n",
      "batch_normalization_2 (Batch (None, 61, 61, 64)        256       \n",
      "_________________________________________________________________\n",
      "activation_2 (Activation)    (None, 61, 61, 64)        0         \n",
      "_________________________________________________________________\n",
      "average_pooling2d_2 (Average (None, 30, 30, 64)        0         \n",
      "_________________________________________________________________\n",
      "conv2d_3 (Conv2D)            (None, 28, 28, 64)        36928     \n",
      "_________________________________________________________________\n",
      "batch_normalization_3 (Batch (None, 28, 28, 64)        256       \n",
      "_________________________________________________________________\n",
      "activation_3 (Activation)    (None, 28, 28, 64)        0         \n",
      "_________________________________________________________________\n",
      "conv2d_4 (Conv2D)            (None, 26, 26, 64)        36928     \n",
      "_________________________________________________________________\n",
      "batch_normalization_4 (Batch (None, 26, 26, 64)        256       \n",
      "_________________________________________________________________\n",
      "activation_4 (Activation)    (None, 26, 26, 64)        0         \n",
      "_________________________________________________________________\n",
      "flatten_1 (Flatten)          (None, 43264)             0         \n",
      "=================================================================\n",
      "Total params: 116,672\n",
      "Trainable params: 116,160\n",
      "Non-trainable params: 512\n",
      "_________________________________________________________________\n"
     ]
    }
   ],
   "source": [
    "vision_model1.summary()\n",
    "model_abc.summary()"
   ]
  },
  {
   "cell_type": "code",
   "execution_count": 14,
   "metadata": {},
   "outputs": [
    {
     "name": "stdout",
     "output_type": "stream",
     "text": [
      "Saved model to disk\n"
     ]
    }
   ],
   "source": [
    "# serialize model to JSON\n",
    "model_json = model_abc.to_json()\n",
    "with open(\"models/model_0105_2.json\", \"w\") as json_file:\n",
    "    json_file.write(model_json)\n",
    "# serialize weights to HDF5\n",
    "model_abc.save_weights(\"models/model_0105_2.h5\")\n",
    "print(\"Saved model to disk\")"
   ]
  },
  {
   "cell_type": "code",
   "execution_count": 1,
   "metadata": {},
   "outputs": [
    {
     "name": "stderr",
     "output_type": "stream",
     "text": [
      "Using TensorFlow backend.\n"
     ]
    },
    {
     "name": "stdout",
     "output_type": "stream",
     "text": [
      "WARNING:tensorflow:From /home/plyzer-ai/anaconda3/envs/carlus/lib/python3.6/site-packages/tensorflow/python/framework/op_def_library.py:263: colocate_with (from tensorflow.python.framework.ops) is deprecated and will be removed in a future version.\n",
      "Instructions for updating:\n",
      "Colocations handled automatically by placer.\n",
      "loaded model\n"
     ]
    }
   ],
   "source": [
    "from keras.models import model_from_json\n",
    "# load model\n",
    "json_file = open(\"models/model_0105.json\", \"r\")\n",
    "loaded_model_json = json_file.read()\n",
    "json_file.close()\n",
    "model_abc = model_from_json(loaded_model_json)\n",
    "\n",
    "model_abc.load_weights(\"models/model_0105.h5\")\n",
    "print('loaded model')"
   ]
  },
  {
   "cell_type": "code",
   "execution_count": null,
   "metadata": {},
   "outputs": [],
   "source": [
    "from keras.utils import plot_model\n",
    "\n",
    "plot_model(model_abc, to_file='model_plot.png', show_shapes=True, show_layer_names=True)\n"
   ]
  },
  {
   "cell_type": "code",
   "execution_count": null,
   "metadata": {},
   "outputs": [],
   "source": [
    "from keras import backend as K\n",
    "K.tensorflow_backend._get_available_gpus()"
   ]
  },
  {
   "cell_type": "code",
   "execution_count": null,
   "metadata": {},
   "outputs": [],
   "source": [
    "import numpy as np\n",
    "from scipy.signal import butter, lfilter, freqz\n",
    "import matplotlib.pyplot as plt\n",
    "import scipy.io\n",
    "\n",
    "\n",
    "scene = 'Scene_21'\n",
    "nlf_path = '../Dataset_Final/NLFs/NLF_' + scene + '.mat'\n",
    "mat = scipy.io.loadmat('../Dataset_Final/NLFs/NLF_' + scene + '.mat')\n",
    "NLF = mat[\"NLF\"][0]\n",
    "NLF_r = np.nan_to_num(NLF[0:256])\n",
    "\n",
    "def butter_lowpass(cutoff, fs, order=5):\n",
    "    nyq = 0.5 * fs\n",
    "    normal_cutoff = cutoff / nyq\n",
    "    b, a = butter(order, normal_cutoff, btype='low', analog=False)\n",
    "    return b, a\n",
    "\n",
    "def butter_lowpass_filter(data, cutoff, fs, order=5):\n",
    "    b, a = butter_lowpass(cutoff, fs, order=order)\n",
    "    y = lfilter(b, a, data)\n",
    "    return y,b,a\n",
    "\n",
    "order = 5\n",
    "fs = 30    # sample rate, Hz\n",
    "cutoff = 2\n",
    "y,b,a = butter_lowpass_filter(NLF_r, cutoff, fs, order)\n",
    "\n",
    "# Plot the frequency response.\n",
    "w, h = freqz(b, a, worN=8000)\n",
    "\n",
    "plt.plot(0.5*fs*w/np.pi, np.abs(h), 'b')\n",
    "plt.plot(cutoff, 0.5*np.sqrt(2), 'ko')\n",
    "plt.axvline(cutoff, color='k')\n",
    "plt.xlim(0, 0.5*fs)\n",
    "plt.title(\"Lowpass Filter Frequency Response\")\n",
    "plt.xlabel('Frequency [Hz]')\n",
    "plt.grid()\n",
    "\n",
    "fig, ax = plt.subplots()\n",
    "ax.plot(y,'r')\n",
    "\n",
    "ax.set(xlabel='intensity', ylabel='std',\n",
    "       title='test nlf filtered')\n",
    "plt.show()\n",
    "\n",
    "fig, ax = plt.subplots()\n",
    "ax.plot(NLF_r,'r')\n",
    "\n",
    "ax.set(xlabel='intensity', ylabel='std',\n",
    "       title='test nlf')\n",
    "plt.show()"
   ]
  },
  {
   "cell_type": "code",
   "execution_count": null,
   "metadata": {},
   "outputs": [],
   "source": []
  }
 ],
 "metadata": {
  "kernelspec": {
   "display_name": "Python [conda env:carlus]",
   "language": "python",
   "name": "conda-env-carlus-py"
  },
  "language_info": {
   "codemirror_mode": {
    "name": "ipython",
    "version": 3
   },
   "file_extension": ".py",
   "mimetype": "text/x-python",
   "name": "python",
   "nbconvert_exporter": "python",
   "pygments_lexer": "ipython3",
   "version": "3.6.8"
  }
 },
 "nbformat": 4,
 "nbformat_minor": 2
}
