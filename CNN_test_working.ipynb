{
 "cells": [
  {
   "cell_type": "code",
   "execution_count": 1,
   "metadata": {},
   "outputs": [
    {
     "name": "stdout",
     "output_type": "stream",
     "text": [
      "../Dataset_CNN/Scene_30/\n",
      "../Dataset_CNN/Scene_35/\n",
      "../Dataset_CNN/Scene_36/\n",
      "../Dataset_CNN/Scene_21/\n",
      "../Dataset_CNN/Scene_33/\n",
      "../Dataset_CNN/Scene_07/\n",
      "../Dataset_CNN/Scene_32/\n",
      "../Dataset_CNN/Scene_34/\n",
      "../Dataset_CNN/Scene_11/\n",
      "../Dataset_CNN/Scene_10/\n",
      "../Dataset_CNN/Scene_13/\n",
      "../Dataset_CNN/Scene_31/\n",
      "../Dataset_CNN/Scene_08/\n",
      "../Dataset_CNN/Scene_23/\n",
      "../Dataset_CNN/Scene_15/\n",
      "../Dataset_CNN/Scene_24/\n",
      "../Dataset_CNN/Scene_19/\n",
      "../Dataset_CNN/Scene_22/\n",
      "../Dataset_CNN/Scene_20/\n",
      "../Dataset_CNN/Scene_12/\n",
      "../Dataset_CNN/Scene_09/\n",
      "../Dataset_CNN/Scene_26/\n",
      "../Dataset_CNN/Scene_06/\n",
      "../Dataset_CNN/Scene_28/\n",
      "../Dataset_CNN/Scene_18/\n",
      "../Dataset_CNN/Scene_29/\n",
      "../Dataset_CNN/Scene_17/\n",
      "../Dataset_CNN/Scene_27/\n",
      "../Dataset_CNN/Scene_16/\n",
      "../Dataset_CNN/Scene_14/\n",
      "../Dataset_CNN/Scene_25/\n",
      "../Dataset_CNN/Scene_05/\n"
     ]
    }
   ],
   "source": [
    "import matplotlib.pyplot as plt\n",
    "from glob import glob\n",
    "import numpy as np\n",
    "import scipy.io, cv2\n",
    "\n",
    "# Find images path\n",
    "scene_paths = glob('../Dataset_CNN/*/')\n",
    "\n",
    "# Fulfill data\n",
    "X_ = []\n",
    "y_ = []\n",
    "Xtest_ = []\n",
    "ytest_ = []\n",
    "for scene in scene_paths:\n",
    "    print(scene)\n",
    "    windows_path = glob(scene + '*')\n",
    "    \n",
    "    for window in windows_path:\n",
    "        images_ref_path = glob(window + '/w_*.jpg')\n",
    "        NLF_path = window + '/NLF_filtered.mat'\n",
    "        \n",
    "        mat = scipy.io.loadmat(NLF_path)\n",
    "        NLF = (mat[\"NLF_step_filt\"][0])\n",
    "        NLF[np.isnan(NLF)] = 0\n",
    "        \n",
    "        for img_ref in images_ref_path[0:5]:\n",
    "            img = plt.imread(img_ref)\n",
    "            \n",
    "            X_.append(img)\n",
    "            y_.append(NLF[0:64])\n",
    "            \n",
    "        for img_ref in images_ref_path[6:9]:\n",
    "            img = plt.imread(img_ref)\n",
    "            \n",
    "            Xtest_.append(img)\n",
    "            ytest_.append(NLF[0:64])\n",
    "            \n",
    "        "
   ]
  },
  {
   "cell_type": "code",
   "execution_count": 2,
   "metadata": {},
   "outputs": [],
   "source": [
    "X_ = np.asarray(X_)\n",
    "y_ = np.asarray(y_)\n",
    "\n",
    "Xtest_ = np.asarray(Xtest_)\n",
    "ytest_ = np.asarray(ytest_)\n"
   ]
  },
  {
   "cell_type": "code",
   "execution_count": 3,
   "metadata": {},
   "outputs": [
    {
     "name": "stdout",
     "output_type": "stream",
     "text": [
      "(34560, 256, 256, 3)\n",
      "(34560, 64)\n",
      "\n",
      "(20736, 256, 256, 3)\n",
      "(20736, 64)\n"
     ]
    }
   ],
   "source": [
    "print(np.shape(X_))\n",
    "print(np.shape(y_))\n",
    "print()\n",
    "print(np.shape(Xtest_))\n",
    "print(np.shape(ytest_))"
   ]
  },
  {
   "cell_type": "markdown",
   "metadata": {},
   "source": [
    "### Crear modelo"
   ]
  },
  {
   "cell_type": "code",
   "execution_count": 4,
   "metadata": {},
   "outputs": [
    {
     "name": "stderr",
     "output_type": "stream",
     "text": [
      "Using TensorFlow backend.\n"
     ]
    },
    {
     "name": "stdout",
     "output_type": "stream",
     "text": [
      "WARNING:tensorflow:From /home/plyzer-ai/anaconda3/envs/carlus/lib/python3.6/site-packages/tensorflow/python/framework/op_def_library.py:263: colocate_with (from tensorflow.python.framework.ops) is deprecated and will be removed in a future version.\n",
      "Instructions for updating:\n",
      "Colocations handled automatically by placer.\n"
     ]
    }
   ],
   "source": [
    "from keras.layers import Conv2D, MaxPooling2D, Input, Dense, Flatten, Reshape\n",
    "from keras.layers import concatenate, AveragePooling2D, Activation, BatchNormalization\n",
    "from keras.models import Model\n",
    "from SpatialPyramidPooling import SpatialPyramidPooling\n",
    "import keras\n",
    "# First, define the vision modules\n",
    "input_imgs = Input(shape=(256, 256, 3))\n",
    "\n",
    "# Model\n",
    "def get_model_column(ks_1, ks_2,p_):\n",
    "    x = Conv2D(64, kernel_size=(ks_1,ks_1), strides = 2, activation=None)(input_imgs)\n",
    "    x = BatchNormalization()(x)\n",
    "    x = Activation('tanh')(x)\n",
    "    x = AveragePooling2D((2, 2))(x)\n",
    "    x = Conv2D(64, kernel_size=(ks_2,ks_2), activation=None)(x) # conv2_a\n",
    "    x = BatchNormalization()(x)\n",
    "    x = Activation('tanh')(x)\n",
    "    x = AveragePooling2D((2, 2))(x) # pool2_a\n",
    "    x = Conv2D(64, kernel_size=(ks_2,ks_2), activation=None)(x) # conv2_a\n",
    "    x = BatchNormalization()(x)\n",
    "    x = Activation('tanh')(x)\n",
    "    x = Conv2D(64, kernel_size=(ks_2,ks_2), activation=None)(x) # conv2_a\n",
    "    x = BatchNormalization()(x)\n",
    "    x = Activation('tanh')(x)\n",
    "    #out = keras.layers.ZeroPadding2D(padding=((p_, 0), (0, p_)), data_format=None)(x)\n",
    "    out = Flatten()(x)\n",
    "    return out\n",
    "\n",
    "vision_model1 = Model(input_imgs, get_model_column(5, 3, 0))\n",
    "vision_model2 = Model(input_imgs, get_model_column(7, 5, 5))\n",
    "vision_model3 = Model(input_imgs, get_model_column(9, 7, 10))\n",
    "\n",
    "# Then define the input-apart model\n",
    "input_a = Input(shape=(256, 256, 3))\n",
    "input_b = Input(shape=(256, 256, 3)) #shape=(300, 300, 3))\n",
    "input_c = Input(shape=(256, 256, 3)) #shape=(340, 340, 3))\n",
    "\n",
    "# The vision model will be shared, weights and all\n",
    "out_a = vision_model1(input_a)\n",
    "out_b = vision_model2(input_b)\n",
    "out_c = vision_model3(input_c)\n",
    "\n",
    "concatenated = concatenate([out_a, out_b, out_c],axis=1)\n",
    "#out = Dense(1, activation='sigmoid')(concatenated)\n",
    "#merge_abc = SpatialPyramidPooling([1, 2, 4])(concatenated)\n",
    "merge_abc = Dense(2048, activation='tanh')(concatenated)\n",
    "#merge_abc = Dense(256*3, activation='relu')(merge_abc)\n",
    "merge_abc = Dense(64, activation='relu')(merge_abc)\n",
    "\n",
    "model_abc = Model([input_a, input_b, input_c], merge_abc)"
   ]
  },
  {
   "cell_type": "code",
   "execution_count": 5,
   "metadata": {},
   "outputs": [
    {
     "name": "stdout",
     "output_type": "stream",
     "text": [
      "_________________________________________________________________\n",
      "Layer (type)                 Output Shape              Param #   \n",
      "=================================================================\n",
      "input_1 (InputLayer)         (None, 256, 256, 3)       0         \n",
      "_________________________________________________________________\n",
      "conv2d_1 (Conv2D)            (None, 126, 126, 64)      4864      \n",
      "_________________________________________________________________\n",
      "batch_normalization_1 (Batch (None, 126, 126, 64)      256       \n",
      "_________________________________________________________________\n",
      "activation_1 (Activation)    (None, 126, 126, 64)      0         \n",
      "_________________________________________________________________\n",
      "average_pooling2d_1 (Average (None, 63, 63, 64)        0         \n",
      "_________________________________________________________________\n",
      "conv2d_2 (Conv2D)            (None, 61, 61, 64)        36928     \n",
      "_________________________________________________________________\n",
      "batch_normalization_2 (Batch (None, 61, 61, 64)        256       \n",
      "_________________________________________________________________\n",
      "activation_2 (Activation)    (None, 61, 61, 64)        0         \n",
      "_________________________________________________________________\n",
      "average_pooling2d_2 (Average (None, 30, 30, 64)        0         \n",
      "_________________________________________________________________\n",
      "conv2d_3 (Conv2D)            (None, 28, 28, 64)        36928     \n",
      "_________________________________________________________________\n",
      "batch_normalization_3 (Batch (None, 28, 28, 64)        256       \n",
      "_________________________________________________________________\n",
      "activation_3 (Activation)    (None, 28, 28, 64)        0         \n",
      "_________________________________________________________________\n",
      "conv2d_4 (Conv2D)            (None, 26, 26, 64)        36928     \n",
      "_________________________________________________________________\n",
      "batch_normalization_4 (Batch (None, 26, 26, 64)        256       \n",
      "_________________________________________________________________\n",
      "activation_4 (Activation)    (None, 26, 26, 64)        0         \n",
      "_________________________________________________________________\n",
      "flatten_1 (Flatten)          (None, 43264)             0         \n",
      "=================================================================\n",
      "Total params: 116,672\n",
      "Trainable params: 116,160\n",
      "Non-trainable params: 512\n",
      "_________________________________________________________________\n"
     ]
    }
   ],
   "source": [
    "vision_model1.summary()"
   ]
  },
  {
   "cell_type": "code",
   "execution_count": 6,
   "metadata": {},
   "outputs": [
    {
     "name": "stdout",
     "output_type": "stream",
     "text": [
      "__________________________________________________________________________________________________\n",
      "Layer (type)                    Output Shape         Param #     Connected to                     \n",
      "==================================================================================================\n",
      "input_2 (InputLayer)            (None, 256, 256, 3)  0                                            \n",
      "__________________________________________________________________________________________________\n",
      "input_3 (InputLayer)            (None, 256, 256, 3)  0                                            \n",
      "__________________________________________________________________________________________________\n",
      "input_4 (InputLayer)            (None, 256, 256, 3)  0                                            \n",
      "__________________________________________________________________________________________________\n",
      "model_1 (Model)                 (None, 43264)        116672      input_2[0][0]                    \n",
      "__________________________________________________________________________________________________\n",
      "model_2 (Model)                 (None, 28224)        317888      input_3[0][0]                    \n",
      "__________________________________________________________________________________________________\n",
      "model_3 (Model)                 (None, 16384)        618944      input_4[0][0]                    \n",
      "__________________________________________________________________________________________________\n",
      "concatenate_1 (Concatenate)     (None, 87872)        0           model_1[1][0]                    \n",
      "                                                                 model_2[1][0]                    \n",
      "                                                                 model_3[1][0]                    \n",
      "__________________________________________________________________________________________________\n",
      "dense_1 (Dense)                 (None, 2048)         179963904   concatenate_1[0][0]              \n",
      "__________________________________________________________________________________________________\n",
      "dense_2 (Dense)                 (None, 64)           131136      dense_1[0][0]                    \n",
      "==================================================================================================\n",
      "Total params: 181,148,544\n",
      "Trainable params: 181,147,008\n",
      "Non-trainable params: 1,536\n",
      "__________________________________________________________________________________________________\n"
     ]
    }
   ],
   "source": [
    "model_abc.summary()"
   ]
  },
  {
   "cell_type": "markdown",
   "metadata": {},
   "source": [
    "### Training"
   ]
  },
  {
   "cell_type": "code",
   "execution_count": 7,
   "metadata": {},
   "outputs": [],
   "source": [
    "from keras import optimizers\n",
    "from keras import losses\n",
    "\n",
    "sgd = optimizers.SGD(lr=0.001, decay=0.0001, momentum=0.9, nesterov=True)\n",
    "\n",
    "# compile model (abc)\n",
    "model_abc.compile(optimizer= sgd, loss='mse')\n",
    "#model_abc.compile(optimizer= sgd, loss=losses.kullback_leibler_divergence)\n"
   ]
  },
  {
   "cell_type": "code",
   "execution_count": 9,
   "metadata": {},
   "outputs": [
    {
     "name": "stdout",
     "output_type": "stream",
     "text": [
      "Train on 34560 samples, validate on 20736 samples\n",
      "Epoch 1/30\n",
      "\r",
      "   64/34560 [..............................] - ETA: 1:31 - loss: 3.8186e-04"
     ]
    },
    {
     "name": "stderr",
     "output_type": "stream",
     "text": [
      "/home/plyzer-ai/anaconda3/envs/carlus/lib/python3.6/site-packages/keras/engine/training.py:490: UserWarning: Discrepancy between trainable weights and collected trainable weights, did you set `model.trainable` without calling `model.compile` after ?\n",
      "  'Discrepancy between trainable weights and collected trainable'\n"
     ]
    },
    {
     "name": "stdout",
     "output_type": "stream",
     "text": [
      "34560/34560 [==============================] - 110s 3ms/step - loss: 4.8803e-04 - val_loss: 1.1369\n",
      "Epoch 2/30\n",
      "34560/34560 [==============================] - 110s 3ms/step - loss: 4.5861e-04 - val_loss: 1.0199\n",
      "Epoch 3/30\n",
      "34560/34560 [==============================] - 110s 3ms/step - loss: 4.2315e-04 - val_loss: 1.0926\n",
      "Epoch 4/30\n",
      "34560/34560 [==============================] - 110s 3ms/step - loss: 3.7964e-04 - val_loss: 1.1460\n",
      "Epoch 5/30\n",
      "34560/34560 [==============================] - 110s 3ms/step - loss: 3.6571e-04 - val_loss: 1.0633\n",
      "Epoch 6/30\n",
      "34560/34560 [==============================] - 110s 3ms/step - loss: 3.3540e-04 - val_loss: 1.1090\n",
      "Epoch 7/30\n",
      "34560/34560 [==============================] - 110s 3ms/step - loss: 3.4132e-04 - val_loss: 1.1219\n",
      "Epoch 8/30\n",
      "34560/34560 [==============================] - 110s 3ms/step - loss: 3.4546e-04 - val_loss: 1.0459\n",
      "Epoch 9/30\n",
      "34560/34560 [==============================] - 110s 3ms/step - loss: 3.3288e-04 - val_loss: 1.1980\n",
      "Epoch 10/30\n",
      "34560/34560 [==============================] - 110s 3ms/step - loss: 3.1853e-04 - val_loss: 1.1122\n",
      "Epoch 11/30\n",
      "34560/34560 [==============================] - 110s 3ms/step - loss: 3.1842e-04 - val_loss: 1.1190\n",
      "Epoch 12/30\n",
      "34560/34560 [==============================] - 110s 3ms/step - loss: 3.0530e-04 - val_loss: 1.1008\n",
      "Epoch 13/30\n",
      "34560/34560 [==============================] - 110s 3ms/step - loss: 3.0247e-04 - val_loss: 1.0936\n",
      "Epoch 14/30\n",
      "34560/34560 [==============================] - 110s 3ms/step - loss: 3.1453e-04 - val_loss: 1.1678\n",
      "Epoch 15/30\n",
      "34560/34560 [==============================] - 110s 3ms/step - loss: 2.8799e-04 - val_loss: 1.1245\n",
      "Epoch 16/30\n",
      "34560/34560 [==============================] - 110s 3ms/step - loss: 2.8074e-04 - val_loss: 1.1013\n",
      "Epoch 17/30\n",
      "34560/34560 [==============================] - 110s 3ms/step - loss: 2.8936e-04 - val_loss: 1.0828\n",
      "Epoch 18/30\n",
      "34560/34560 [==============================] - 110s 3ms/step - loss: 2.9296e-04 - val_loss: 1.1321\n",
      "Epoch 19/30\n",
      "34560/34560 [==============================] - 110s 3ms/step - loss: 2.7714e-04 - val_loss: 1.0868\n",
      "Epoch 20/30\n",
      "34560/34560 [==============================] - 110s 3ms/step - loss: 2.7862e-04 - val_loss: 1.1288\n",
      "Epoch 21/30\n",
      "34560/34560 [==============================] - 110s 3ms/step - loss: 2.7722e-04 - val_loss: 1.1559\n",
      "Epoch 22/30\n",
      "34560/34560 [==============================] - 110s 3ms/step - loss: 2.7520e-04 - val_loss: 1.1292\n",
      "Epoch 23/30\n",
      "34560/34560 [==============================] - 110s 3ms/step - loss: 2.7534e-04 - val_loss: 1.0974\n",
      "Epoch 24/30\n",
      "34560/34560 [==============================] - 111s 3ms/step - loss: 2.6422e-04 - val_loss: 1.0979\n",
      "Epoch 25/30\n",
      "34560/34560 [==============================] - 110s 3ms/step - loss: 2.6934e-04 - val_loss: 1.0862\n",
      "Epoch 26/30\n",
      "34560/34560 [==============================] - 110s 3ms/step - loss: 2.6987e-04 - val_loss: 1.1052\n",
      "Epoch 27/30\n",
      "34560/34560 [==============================] - 110s 3ms/step - loss: 2.6038e-04 - val_loss: 1.1030\n",
      "Epoch 28/30\n",
      "34560/34560 [==============================] - 110s 3ms/step - loss: 2.6369e-04 - val_loss: 1.1351\n",
      "Epoch 29/30\n",
      "34560/34560 [==============================] - 110s 3ms/step - loss: 2.6213e-04 - val_loss: 1.1368\n",
      "Epoch 30/30\n",
      "34560/34560 [==============================] - 110s 3ms/step - loss: 2.6628e-04 - val_loss: 1.1192\n",
      "Train on 34560 samples, validate on 20736 samples\n",
      "Epoch 1/30\n",
      "34560/34560 [==============================] - 113s 3ms/step - loss: 2.5507e-04 - val_loss: 1.1196\n",
      "Epoch 2/30\n",
      "34560/34560 [==============================] - 112s 3ms/step - loss: 2.5723e-04 - val_loss: 1.0952\n",
      "Epoch 3/30\n",
      "34560/34560 [==============================] - 112s 3ms/step - loss: 2.5856e-04 - val_loss: 1.1307\n",
      "Epoch 4/30\n",
      "34560/34560 [==============================] - 112s 3ms/step - loss: 2.5790e-04 - val_loss: 1.0981\n",
      "Epoch 5/30\n",
      "34560/34560 [==============================] - 112s 3ms/step - loss: 2.6558e-04 - val_loss: 1.1268\n",
      "Epoch 6/30\n",
      "34560/34560 [==============================] - 112s 3ms/step - loss: 2.4909e-04 - val_loss: 1.1126\n",
      "Epoch 7/30\n",
      "34560/34560 [==============================] - 113s 3ms/step - loss: 2.5213e-04 - val_loss: 1.0816\n",
      "Epoch 8/30\n",
      "34560/34560 [==============================] - 112s 3ms/step - loss: 2.5287e-04 - val_loss: 1.1104\n",
      "Epoch 9/30\n",
      "34560/34560 [==============================] - 112s 3ms/step - loss: 2.5393e-04 - val_loss: 1.0880\n",
      "Epoch 10/30\n",
      "34560/34560 [==============================] - 111s 3ms/step - loss: 2.4757e-04 - val_loss: 1.1010\n",
      "Epoch 11/30\n",
      "34560/34560 [==============================] - 111s 3ms/step - loss: 2.5017e-04 - val_loss: 1.1241\n",
      "Epoch 12/30\n",
      "34560/34560 [==============================] - 110s 3ms/step - loss: 2.4635e-04 - val_loss: 1.1239\n",
      "Epoch 13/30\n",
      "34560/34560 [==============================] - 112s 3ms/step - loss: 2.4801e-04 - val_loss: 1.1216\n",
      "Epoch 14/30\n",
      "34560/34560 [==============================] - 111s 3ms/step - loss: 2.4555e-04 - val_loss: 1.1019\n",
      "Epoch 15/30\n",
      "34560/34560 [==============================] - 111s 3ms/step - loss: 2.4937e-04 - val_loss: 1.0982\n",
      "Epoch 16/30\n",
      "34560/34560 [==============================] - 111s 3ms/step - loss: 2.5238e-04 - val_loss: 1.0862\n",
      "Epoch 17/30\n",
      "34560/34560 [==============================] - 111s 3ms/step - loss: 2.4707e-04 - val_loss: 1.1135\n",
      "Epoch 18/30\n",
      "34560/34560 [==============================] - 111s 3ms/step - loss: 2.5962e-04 - val_loss: 1.1142\n",
      "Epoch 19/30\n",
      "34560/34560 [==============================] - 112s 3ms/step - loss: 2.4942e-04 - val_loss: 1.0810\n",
      "Epoch 20/30\n",
      "34560/34560 [==============================] - 110s 3ms/step - loss: 2.4546e-04 - val_loss: 1.1080\n",
      "Epoch 21/30\n",
      "34560/34560 [==============================] - 112s 3ms/step - loss: 2.4245e-04 - val_loss: 1.1067\n",
      "Epoch 22/30\n",
      "34560/34560 [==============================] - 111s 3ms/step - loss: 2.4479e-04 - val_loss: 1.1029\n",
      "Epoch 23/30\n",
      "34560/34560 [==============================] - 111s 3ms/step - loss: 2.5268e-04 - val_loss: 1.1041\n",
      "Epoch 24/30\n",
      "34560/34560 [==============================] - 110s 3ms/step - loss: 2.4720e-04 - val_loss: 1.1160\n",
      "Epoch 25/30\n",
      "34560/34560 [==============================] - 112s 3ms/step - loss: 2.5069e-04 - val_loss: 1.1535\n",
      "Epoch 26/30\n",
      "34560/34560 [==============================] - 111s 3ms/step - loss: 2.5815e-04 - val_loss: 1.1242\n",
      "Epoch 27/30\n",
      "34560/34560 [==============================] - 111s 3ms/step - loss: 2.4589e-04 - val_loss: 1.0897\n",
      "Epoch 28/30\n",
      "34560/34560 [==============================] - 110s 3ms/step - loss: 2.4429e-04 - val_loss: 1.0934\n",
      "Epoch 29/30\n",
      "34560/34560 [==============================] - 111s 3ms/step - loss: 2.4899e-04 - val_loss: 1.0999\n",
      "Epoch 30/30\n",
      "34560/34560 [==============================] - 110s 3ms/step - loss: 2.4799e-04 - val_loss: 1.1128\n",
      "Train on 34560 samples, validate on 20736 samples\n",
      "Epoch 1/30\n",
      "34560/34560 [==============================] - 111s 3ms/step - loss: 2.4298e-04 - val_loss: 1.1365\n",
      "Epoch 2/30\n",
      "34560/34560 [==============================] - 110s 3ms/step - loss: 2.4018e-04 - val_loss: 1.1118\n",
      "Epoch 3/30\n",
      "34560/34560 [==============================] - 111s 3ms/step - loss: 2.4355e-04 - val_loss: 1.1040\n",
      "Epoch 4/30\n",
      "34560/34560 [==============================] - 110s 3ms/step - loss: 2.5389e-04 - val_loss: 1.0981\n",
      "Epoch 5/30\n",
      "34560/34560 [==============================] - 111s 3ms/step - loss: 2.3713e-04 - val_loss: 1.1359\n",
      "Epoch 6/30\n",
      "34560/34560 [==============================] - 110s 3ms/step - loss: 2.3994e-04 - val_loss: 1.0832\n",
      "Epoch 7/30\n",
      "34560/34560 [==============================] - 111s 3ms/step - loss: 2.4491e-04 - val_loss: 1.0905\n",
      "Epoch 8/30\n",
      "34560/34560 [==============================] - 111s 3ms/step - loss: 2.4200e-04 - val_loss: 1.1059\n",
      "Epoch 9/30\n",
      "34560/34560 [==============================] - 111s 3ms/step - loss: 2.4148e-04 - val_loss: 1.0935\n",
      "Epoch 10/30\n",
      "34560/34560 [==============================] - 111s 3ms/step - loss: 2.4230e-04 - val_loss: 1.1139\n",
      "Epoch 11/30\n",
      "34560/34560 [==============================] - 112s 3ms/step - loss: 2.3757e-04 - val_loss: 1.1174\n",
      "Epoch 12/30\n",
      "34560/34560 [==============================] - 111s 3ms/step - loss: 2.3960e-04 - val_loss: 1.0899\n",
      "Epoch 13/30\n",
      "34560/34560 [==============================] - 111s 3ms/step - loss: 2.4669e-04 - val_loss: 1.1018\n",
      "Epoch 14/30\n"
     ]
    },
    {
     "name": "stdout",
     "output_type": "stream",
     "text": [
      "34560/34560 [==============================] - 111s 3ms/step - loss: 2.3860e-04 - val_loss: 1.1030\n",
      "Epoch 15/30\n",
      "34560/34560 [==============================] - 111s 3ms/step - loss: 2.3778e-04 - val_loss: 1.1213\n",
      "Epoch 16/30\n",
      "34560/34560 [==============================] - 111s 3ms/step - loss: 2.3961e-04 - val_loss: 1.0935\n",
      "Epoch 17/30\n",
      "34560/34560 [==============================] - 111s 3ms/step - loss: 2.3986e-04 - val_loss: 1.1158\n",
      "Epoch 18/30\n",
      "34560/34560 [==============================] - 111s 3ms/step - loss: 2.4512e-04 - val_loss: 1.1263\n",
      "Epoch 19/30\n",
      "34560/34560 [==============================] - 111s 3ms/step - loss: 2.3974e-04 - val_loss: 1.0994\n",
      "Epoch 20/30\n",
      "34560/34560 [==============================] - 111s 3ms/step - loss: 2.4374e-04 - val_loss: 1.0998\n",
      "Epoch 21/30\n",
      "34560/34560 [==============================] - 111s 3ms/step - loss: 2.4192e-04 - val_loss: 1.1298\n",
      "Epoch 22/30\n",
      "34560/34560 [==============================] - 112s 3ms/step - loss: 2.4081e-04 - val_loss: 1.1145\n",
      "Epoch 23/30\n",
      "34560/34560 [==============================] - 112s 3ms/step - loss: 2.3944e-04 - val_loss: 1.0826\n",
      "Epoch 24/30\n",
      "34560/34560 [==============================] - 111s 3ms/step - loss: 2.3898e-04 - val_loss: 1.0678\n",
      "Epoch 25/30\n",
      "34560/34560 [==============================] - 111s 3ms/step - loss: 2.3402e-04 - val_loss: 1.1413\n",
      "Epoch 26/30\n",
      "34560/34560 [==============================] - 112s 3ms/step - loss: 2.4032e-04 - val_loss: 1.1107\n",
      "Epoch 27/30\n",
      "34560/34560 [==============================] - 111s 3ms/step - loss: 2.3908e-04 - val_loss: 1.1187\n",
      "Epoch 28/30\n",
      "34560/34560 [==============================] - 111s 3ms/step - loss: 2.4215e-04 - val_loss: 1.0735\n",
      "Epoch 29/30\n",
      "34560/34560 [==============================] - 111s 3ms/step - loss: 2.3902e-04 - val_loss: 1.1193\n",
      "Epoch 30/30\n",
      "34560/34560 [==============================] - 111s 3ms/step - loss: 2.3890e-04 - val_loss: 1.1035\n"
     ]
    },
    {
     "data": {
      "text/plain": [
       "<keras.callbacks.History at 0x7f65a016cc18>"
      ]
     },
     "execution_count": 9,
     "metadata": {},
     "output_type": "execute_result"
    }
   ],
   "source": [
    "# Make model_a non trainable\n",
    "model_abc.layers[3].trainable = False\n",
    "model_abc.layers[4].trainable = False\n",
    "#model_abc.fit(x=[X_,X_,X_], y=y_, batch_size=64, epochs=10, validation_split=0.1, shuffle=True)\n",
    "model_abc.fit(x=[X_,X_,X_], y=y_, validation_data=([Xtest_,Xtest_,Xtest_], ytest_),batch_size=64, epochs=30, shuffle=True)\n",
    "\n",
    "# Make model_a non trainable\n",
    "model_abc.layers[3].trainable = False\n",
    "model_abc.layers[4].trainable = True\n",
    "model_abc.layers[5].trainable = False\n",
    "#model_abc.fit(x=[X_,X_,X_], y=y_, batch_size=64, epochs=10, validation_split=0.1, shuffle=True)\n",
    "model_abc.fit(x=[X_,X_,X_], y=y_, validation_data=([Xtest_,Xtest_,Xtest_], ytest_),batch_size=64, epochs=30, shuffle=True)\n",
    "\n",
    "# Make model_a non trainable\n",
    "model_abc.layers[3].trainable = True\n",
    "model_abc.layers[4].trainable = False\n",
    "model_abc.layers[5].trainable = False\n",
    "#model_abc.fit(x=[X_,X_,X_], y=y_, batch_size=64, epochs=10, validation_split=0.1, shuffle=True)\n",
    "model_abc.fit(x=[X_,X_,X_], y=y_, validation_data=([Xtest_,Xtest_,Xtest_], ytest_),batch_size=64, epochs=30, shuffle=True)\n"
   ]
  },
  {
   "cell_type": "code",
   "execution_count": 6,
   "metadata": {},
   "outputs": [
    {
     "data": {
      "image/png": "[encoded data removed]",
      "text/plain": [
       "<Figure size 432x288 with 1 Axes>"
      ]
     },
     "metadata": {
      "needs_background": "light"
     },
     "output_type": "display_data"
    },
    {
     "data": {
      "image/png": "[encoded data removed]",
      "text/plain": [
       "<Figure size 432x288 with 1 Axes>"
      ]
     },
     "metadata": {
      "needs_background": "light"
     },
     "output_type": "display_data"
    }
   ],
   "source": [
    "import matplotlib.pyplot as plt\n",
    "ii = 20\n",
    "y_pred = np.transpose(model_abc.predict([[X_[ii]],[X_[ii]],[X_[ii]]]))\n",
    "\n",
    "fig, ax = plt.subplots()\n",
    "#y_pred[y_pred < 0] = 0\n",
    "ax.plot(y_pred,'r')\n",
    "\n",
    "ax.set(xlabel='intensity', ylabel='std',\n",
    "       title='pred nlf')\n",
    "plt.show()\n",
    "\n",
    "fig, ax = plt.subplots()\n",
    "ax.plot(y_[ii],'r')\n",
    "\n",
    "ax.set(xlabel='intensity', ylabel='std',\n",
    "       title='test nlf')\n",
    "plt.show()"
   ]
  },
  {
   "cell_type": "code",
   "execution_count": null,
   "metadata": {},
   "outputs": [],
   "source": [
    "print(y_[0])"
   ]
  },
  {
   "cell_type": "code",
   "execution_count": null,
   "metadata": {},
   "outputs": [],
   "source": [
    "from keras.utils import plot_model\n",
    "\n",
    "plot_model(model_abc, to_file='model_plot.png', show_shapes=True, show_layer_names=True)\n"
   ]
  },
  {
   "cell_type": "code",
   "execution_count": null,
   "metadata": {},
   "outputs": [],
   "source": [
    "from keras import backend as K\n",
    "K.tensorflow_backend._get_available_gpus()"
   ]
  },
  {
   "cell_type": "code",
   "execution_count": null,
   "metadata": {},
   "outputs": [],
   "source": [
    "import numpy as np\n",
    "from scipy.signal import butter, lfilter, freqz\n",
    "import matplotlib.pyplot as plt\n",
    "import scipy.io\n",
    "\n",
    "\n",
    "scene = 'Scene_21'\n",
    "nlf_path = '../Dataset_Final/NLFs/NLF_' + scene + '.mat'\n",
    "mat = scipy.io.loadmat('../Dataset_Final/NLFs/NLF_' + scene + '.mat')\n",
    "NLF = mat[\"NLF\"][0]\n",
    "NLF_r = np.nan_to_num(NLF[0:256])\n",
    "\n",
    "def butter_lowpass(cutoff, fs, order=5):\n",
    "    nyq = 0.5 * fs\n",
    "    normal_cutoff = cutoff / nyq\n",
    "    b, a = butter(order, normal_cutoff, btype='low', analog=False)\n",
    "    return b, a\n",
    "\n",
    "def butter_lowpass_filter(data, cutoff, fs, order=5):\n",
    "    b, a = butter_lowpass(cutoff, fs, order=order)\n",
    "    y = lfilter(b, a, data)\n",
    "    return y,b,a\n",
    "\n",
    "order = 5\n",
    "fs = 30    # sample rate, Hz\n",
    "cutoff = 2\n",
    "y,b,a = butter_lowpass_filter(NLF_r, cutoff, fs, order)\n",
    "\n",
    "# Plot the frequency response.\n",
    "w, h = freqz(b, a, worN=8000)\n",
    "\n",
    "plt.plot(0.5*fs*w/np.pi, np.abs(h), 'b')\n",
    "plt.plot(cutoff, 0.5*np.sqrt(2), 'ko')\n",
    "plt.axvline(cutoff, color='k')\n",
    "plt.xlim(0, 0.5*fs)\n",
    "plt.title(\"Lowpass Filter Frequency Response\")\n",
    "plt.xlabel('Frequency [Hz]')\n",
    "plt.grid()\n",
    "\n",
    "fig, ax = plt.subplots()\n",
    "ax.plot(y,'r')\n",
    "\n",
    "ax.set(xlabel='intensity', ylabel='std',\n",
    "       title='test nlf filtered')\n",
    "plt.show()\n",
    "\n",
    "fig, ax = plt.subplots()\n",
    "ax.plot(NLF_r,'r')\n",
    "\n",
    "ax.set(xlabel='intensity', ylabel='std',\n",
    "       title='test nlf')\n",
    "plt.show()"
   ]
  },
  {
   "cell_type": "code",
   "execution_count": null,
   "metadata": {},
   "outputs": [],
   "source": []
  }
 ],
 "metadata": {
  "kernelspec": {
   "display_name": "Python [conda env:carlus]",
   "language": "python",
   "name": "conda-env-carlus-py"
  },
  "language_info": {
   "codemirror_mode": {
    "name": "ipython",
    "version": 3
   },
   "file_extension": ".py",
   "mimetype": "text/x-python",
   "name": "python",
   "nbconvert_exporter": "python",
   "pygments_lexer": "ipython3",
   "version": "3.6.8"
  }
 },
 "nbformat": 4,
 "nbformat_minor": 2
}
