{
 "cells": [
  {
   "cell_type": "code",
   "execution_count": 1,
   "metadata": {},
   "outputs": [],
   "source": [
    "import matplotlib.pyplot as plt\n",
    "from glob import glob\n",
    "import numpy as np\n",
    "import scipy.io, cv2\n",
    "\n",
    "# Find images path\n",
    "images_paths = glob('../Dataset_Final/jpg_images/*/*')\n",
    "\n",
    "# Fulfill data\n",
    "X_ = []\n",
    "y_ = []\n",
    "for path in images_paths:\n",
    "    scene = path.split('/')[-2]\n",
    "    \n",
    "    # Input data (images)\n",
    "    img = plt.imread(path)\n",
    "    # Image resize\n",
    "    if 1:\n",
    "        img = cv2.resize(img, dsize = None,fx=0.6, fy=0.6, interpolation=cv2.INTER_CUBIC)\n",
    "    \n",
    "    X_.append(img)\n",
    "    \n",
    "    # Output data (NLFs)\n",
    "    nlf_path = '../Dataset_Final/NLFs/NLF_' + scene + '.mat'\n",
    "    mat = scipy.io.loadmat('../Dataset_Final/NLFs/NLF_' + scene + '.mat')\n",
    "    NLF = mat[\"NLF\"][0]\n",
    "    y_.append(NLF)\n",
    "    \n",
    "#(X_train, y_train), (X_test, y_test) = ''"
   ]
  },
  {
   "cell_type": "code",
   "execution_count": 2,
   "metadata": {},
   "outputs": [],
   "source": [
    "X_ = np.asarray(X_)\n",
    "y_ = np.asarray(y_)\n",
    "\n"
   ]
  },
  {
   "cell_type": "markdown",
   "metadata": {},
   "source": [
    "### Crear modelo"
   ]
  },
  {
   "cell_type": "code",
   "execution_count": 8,
   "metadata": {},
   "outputs": [],
   "source": [
    "from keras.models import Sequential\n",
    "from keras.layers import Dense, Conv2D, Flatten, AveragePooling2D\n",
    "from SpatialPyramidPooling import SpatialPyramidPooling\n",
    "\n",
    "# create model (a)\n",
    "model_a = Sequential()\n",
    "\n",
    "# add model a layers\n",
    "model_a.add(Conv2D(64, kernel_size=5, strides = 2, activation='relu', input_shape=(None,None,3))) # conv1_a\n",
    "model_a.add(AveragePooling2D(pool_size=(2, 2))) # pool1_a\n",
    "model_a.add(Conv2D(64, kernel_size=3, activation='relu')) # conv2_a\n",
    "model_a.add(AveragePooling2D(pool_size=(2, 2))) # pool2_a\n",
    "model_a.add(Conv2D(64, kernel_size=3, activation='relu')) # conv3_a\n",
    "model_a.add(Conv2D(64, kernel_size=3, activation='relu')) # conv4_a\n",
    "\n",
    "# spp\n",
    "model_a.add(SpatialPyramidPooling([1, 2, 4]))\n",
    "\n",
    "# fully connected layers\n",
    "model_a.add(Dense(2048, activation='relu'))\n",
    "model_a.add(Dense(256*3, activation='relu'))\n",
    "\n",
    "# model_a.output"
   ]
  },
  {
   "cell_type": "code",
   "execution_count": 9,
   "metadata": {},
   "outputs": [],
   "source": [
    "from keras import optimizers\n",
    "\n",
    "# compile model (a)\n",
    "sgd = optimizers.SGD(lr=0.001, decay=0.0001, momentum=0.9, nesterov=True)\n",
    "model_a.compile(optimizer= sgd, loss='mse')"
   ]
  },
  {
   "cell_type": "code",
   "execution_count": null,
   "metadata": {},
   "outputs": [
    {
     "name": "stdout",
     "output_type": "stream",
     "text": [
      "WARNING:tensorflow:From /Users/Carlusaurio/.pyenv/versions/3.6.6/envs/venv_tfg/lib/python3.6/site-packages/tensorflow/python/ops/math_ops.py:3066: to_int32 (from tensorflow.python.ops.math_ops) is deprecated and will be removed in a future version.\n",
      "Instructions for updating:\n",
      "Use tf.cast instead.\n",
      "WARNING:tensorflow:From /Users/Carlusaurio/.pyenv/versions/3.6.6/envs/venv_tfg/lib/python3.6/site-packages/tensorflow/python/ops/math_grad.py:102: div (from tensorflow.python.ops.math_ops) is deprecated and will be removed in a future version.\n",
      "Instructions for updating:\n",
      "Deprecated in favor of operator or tf.math.divide.\n",
      "Train on 294 samples, validate on 33 samples\n",
      "Epoch 1/10\n"
     ]
    }
   ],
   "source": [
    "model_a.fit(x=X_, y=y_, batch_size=32, epochs=10, validation_split=0.1, shuffle=True)\n"
   ]
  },
  {
   "cell_type": "markdown",
   "metadata": {},
   "source": [
    "### Tutoriales"
   ]
  },
  {
   "cell_type": "code",
   "execution_count": 11,
   "metadata": {},
   "outputs": [
    {
     "name": "stdout",
     "output_type": "stream",
     "text": [
      "<class 'numpy.ndarray'>\n"
     ]
    }
   ],
   "source": [
    "import numpy as np\n",
    "x = np.ones([2,2])\n",
    "xx = np.ones([3,3])\n",
    "\n",
    "z = []\n",
    "z.append(x)\n",
    "z.append(xx)\n",
    "z = np.asarray(z)\n",
    "print(type(z[0]))\n"
   ]
  },
  {
   "cell_type": "code",
   "execution_count": 1,
   "metadata": {},
   "outputs": [
    {
     "name": "stdout",
     "output_type": "stream",
     "text": [
      "<class 'numpy.ndarray'>\n"
     ]
    }
   ],
   "source": [
    "import scipy.io\n",
    "mat = scipy.io.loadmat('../Dataset_Final/NLFs/NLF_' + 'Scene_05' + '.mat')\n",
    "NLF = mat[\"NLF\"][0]\n",
    "print(type(NLF))\n"
   ]
  },
  {
   "cell_type": "code",
   "execution_count": null,
   "metadata": {},
   "outputs": [],
   "source": []
  }
 ],
 "metadata": {
  "kernelspec": {
   "display_name": "venv_tfg",
   "language": "python",
   "name": "venv_tfg"
  },
  "language_info": {
   "codemirror_mode": {
    "name": "ipython",
    "version": 3
   },
   "file_extension": ".py",
   "mimetype": "text/x-python",
   "name": "python",
   "nbconvert_exporter": "python",
   "pygments_lexer": "ipython3",
   "version": "3.6.6"
  }
 },
 "nbformat": 4,
 "nbformat_minor": 2
}
