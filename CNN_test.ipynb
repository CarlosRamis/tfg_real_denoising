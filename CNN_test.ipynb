{
 "cells": [
  {
   "cell_type": "code",
   "execution_count": 1,
   "metadata": {},
   "outputs": [],
   "source": [
    "import matplotlib.pyplot as plt\n",
    "from glob import glob\n",
    "import numpy as np\n",
    "import scipy.io, cv2\n",
    "\n",
    "# Find images path\n",
    "images_paths = glob('../Dataset_Final/jpg_images/*/*')\n",
    "\n",
    "# Fulfill data\n",
    "X_ = []\n",
    "y_ = []\n",
    "for path in images_paths:\n",
    "    scene = path.split('/')[-2]\n",
    "    \n",
    "    # Input data (images)\n",
    "    img = plt.imread(path)\n",
    "    # Image resize\n",
    "    if 1:\n",
    "        #img = cv2.resize(img, dsize = None,fx=0.5, fy=0.5, interpolation=cv2.INTER_CUBIC)\n",
    "        img = cv2.resize(img, dsize =(256,256), interpolation=cv2.INTER_CUBIC)\n",
    "        X_.append(img)\n",
    "    else:\n",
    "        X_.append(img[0:256,0:256,:])\n",
    "\n",
    "        X_.append(img[500:500+256,500:500 + 256,:])\n",
    "        X_.append(img[1000:1000+256,1000:1000 + 256,:])\n",
    "\n",
    "    # Output data (NLFs)\n",
    "    nlf_path = '../Dataset_Final/NLFs/NLF_' + scene + '.mat'\n",
    "    mat = scipy.io.loadmat('../Dataset_Final/NLFs/NLF_' + scene + '.mat')\n",
    "\n",
    "    NLF = mat[\"NLF\"][0]\n",
    "    #y_.append(np.nan_to_num(NLF))\n",
    "    y_.append(np.nan_to_num(NLF[0:256]))\n",
    "    \n",
    "#(X_train, y_train), (X_test, y_test) = ''"
   ]
  },
  {
   "cell_type": "code",
   "execution_count": 2,
   "metadata": {},
   "outputs": [],
   "source": [
    "X_ = np.asarray(X_)\n",
    "y_ = np.asarray(y_)\n"
   ]
  },
  {
   "cell_type": "code",
   "execution_count": 3,
   "metadata": {},
   "outputs": [
    {
     "name": "stdout",
     "output_type": "stream",
     "text": [
      "(523, 256, 256, 3)\n"
     ]
    }
   ],
   "source": [
    "print(np.shape(X_))"
   ]
  },
  {
   "cell_type": "markdown",
   "metadata": {},
   "source": [
    "### Crear modelo"
   ]
  },
  {
   "cell_type": "code",
   "execution_count": 4,
   "metadata": {},
   "outputs": [
    {
     "name": "stderr",
     "output_type": "stream",
     "text": [
      "Using TensorFlow backend.\n"
     ]
    },
    {
     "name": "stdout",
     "output_type": "stream",
     "text": [
      "WARNING:tensorflow:From /home/plyzer-ai/anaconda3/envs/carlus/lib/python3.6/site-packages/tensorflow/python/framework/op_def_library.py:263: colocate_with (from tensorflow.python.framework.ops) is deprecated and will be removed in a future version.\n",
      "Instructions for updating:\n",
      "Colocations handled automatically by placer.\n"
     ]
    }
   ],
   "source": [
    "from keras.layers import Conv2D, MaxPooling2D, Input, Dense, Flatten, Reshape\n",
    "from keras.layers import concatenate, AveragePooling2D, Activation, BatchNormalization\n",
    "from keras.models import Model\n",
    "from SpatialPyramidPooling import SpatialPyramidPooling\n",
    "import keras\n",
    "# First, define the vision modules\n",
    "input_imgs = Input(shape=(None, None, 3))\n",
    "\n",
    "# Model\n",
    "def get_model_column(ks_1, ks_2,p_):\n",
    "    x = Conv2D(64, kernel_size=(ks_1,ks_1), strides = 2, activation=None)(input_imgs)\n",
    "    x = BatchNormalization()(x)\n",
    "    x = Activation('relu')(x)\n",
    "    x = AveragePooling2D((2, 2))(x)\n",
    "    x = Conv2D(64, kernel_size=(ks_2,ks_2), activation=None)(x) # conv2_a\n",
    "    x = BatchNormalization()(x)\n",
    "    x = Activation('relu')(x)\n",
    "    x = AveragePooling2D((2, 2))(x) # pool2_a\n",
    "    x = Conv2D(64, kernel_size=(ks_2,ks_2), activation=None)(x) # conv2_a\n",
    "    x = BatchNormalization()(x)\n",
    "    x = Activation('relu')(x)\n",
    "    x = Conv2D(64, kernel_size=(ks_2,ks_2), activation=None)(x) # conv2_a\n",
    "    x = BatchNormalization()(x)\n",
    "    x = Activation('relu')(x)\n",
    "    out = keras.layers.ZeroPadding2D(padding=((p_, 0), (0, p_)), data_format=None)(x)\n",
    "    #out1 = Flatten()(x)\n",
    "    return out\n",
    "\n",
    "vision_model1 = Model(input_imgs, get_model_column(5, 3,0))\n",
    "vision_model2 = Model(input_imgs, get_model_column(7, 5,5))\n",
    "vision_model3 = Model(input_imgs, get_model_column(9, 7,10))\n",
    "\n",
    "# Then define the input-apart model\n",
    "input_a = Input(shape=(256, 256, 3))\n",
    "input_b = Input(shape=(256, 256, 3)) #shape=(300, 300, 3))\n",
    "input_c = Input(shape=(256, 256, 3)) #shape=(340, 340, 3))\n",
    "\n",
    "# The vision model will be shared, weights and all\n",
    "out_a = vision_model1(input_a)\n",
    "out_b = vision_model2(input_b)\n",
    "out_c = vision_model3(input_c)\n",
    "\n",
    "concatenated = concatenate([out_a, out_b, out_c],axis=-1)\n",
    "#out = Dense(1, activation='sigmoid')(concatenated)\n",
    "merge_abc = SpatialPyramidPooling([1, 2, 4])(concatenated)\n",
    "#merge_abc = Dense(2048, activation='relu')(merge_abc)\n",
    "#merge_abc = Dense(256*3, activation='relu')(merge_abc)\n",
    "#merge_abc = Flatten()(concatenated)\n",
    "merge_abc = Dense(2048, activation='relu')(merge_abc)\n",
    "merge_abc = Dense(256, activation='relu')(merge_abc)\n",
    "\n",
    "model_abc = Model([input_a, input_b, input_c], merge_abc)"
   ]
  },
  {
   "cell_type": "code",
   "execution_count": null,
   "metadata": {},
   "outputs": [],
   "source": []
  },
  {
   "cell_type": "code",
   "execution_count": 5,
   "metadata": {},
   "outputs": [
    {
     "name": "stdout",
     "output_type": "stream",
     "text": [
      "__________________________________________________________________________________________________\n",
      "Layer (type)                    Output Shape         Param #     Connected to                     \n",
      "==================================================================================================\n",
      "input_2 (InputLayer)            (None, 256, 256, 3)  0                                            \n",
      "__________________________________________________________________________________________________\n",
      "input_3 (InputLayer)            (None, 256, 256, 3)  0                                            \n",
      "__________________________________________________________________________________________________\n",
      "input_4 (InputLayer)            (None, 256, 256, 3)  0                                            \n",
      "__________________________________________________________________________________________________\n",
      "model_1 (Model)                 multiple             116672      input_2[0][0]                    \n",
      "__________________________________________________________________________________________________\n",
      "model_2 (Model)                 multiple             317888      input_3[0][0]                    \n",
      "__________________________________________________________________________________________________\n",
      "model_3 (Model)                 multiple             618944      input_4[0][0]                    \n",
      "__________________________________________________________________________________________________\n",
      "concatenate_1 (Concatenate)     (None, 26, 26, 192)  0           model_1[1][0]                    \n",
      "                                                                 model_2[1][0]                    \n",
      "                                                                 model_3[1][0]                    \n",
      "__________________________________________________________________________________________________\n",
      "spatial_pyramid_pooling_1 (Spat (None, 4032)         0           concatenate_1[0][0]              \n",
      "__________________________________________________________________________________________________\n",
      "dense_1 (Dense)                 (None, 2048)         8259584     spatial_pyramid_pooling_1[0][0]  \n",
      "__________________________________________________________________________________________________\n",
      "dense_2 (Dense)                 (None, 256)          524544      dense_1[0][0]                    \n",
      "==================================================================================================\n",
      "Total params: 9,837,632\n",
      "Trainable params: 9,836,096\n",
      "Non-trainable params: 1,536\n",
      "__________________________________________________________________________________________________\n"
     ]
    }
   ],
   "source": [
    "model_abc.summary()"
   ]
  },
  {
   "cell_type": "markdown",
   "metadata": {},
   "source": [
    "### Training"
   ]
  },
  {
   "cell_type": "code",
   "execution_count": 6,
   "metadata": {},
   "outputs": [],
   "source": [
    "from keras import optimizers\n",
    "\n",
    "sgd = optimizers.SGD(lr=0.001, decay=0.0001, momentum=0.9, nesterov=True)\n",
    "\n",
    "# compile model (abc)\n",
    "model_abc.compile(optimizer= sgd, loss='mse')"
   ]
  },
  {
   "cell_type": "code",
   "execution_count": 7,
   "metadata": {},
   "outputs": [
    {
     "name": "stdout",
     "output_type": "stream",
     "text": [
      "WARNING:tensorflow:From /home/plyzer-ai/anaconda3/envs/carlus/lib/python3.6/site-packages/tensorflow/python/ops/math_ops.py:3066: to_int32 (from tensorflow.python.ops.math_ops) is deprecated and will be removed in a future version.\n",
      "Instructions for updating:\n",
      "Use tf.cast instead.\n",
      "WARNING:tensorflow:From /home/plyzer-ai/anaconda3/envs/carlus/lib/python3.6/site-packages/tensorflow/python/ops/math_grad.py:102: div (from tensorflow.python.ops.math_ops) is deprecated and will be removed in a future version.\n",
      "Instructions for updating:\n",
      "Deprecated in favor of operator or tf.math.divide.\n"
     ]
    },
    {
     "name": "stderr",
     "output_type": "stream",
     "text": [
      "/home/plyzer-ai/anaconda3/envs/carlus/lib/python3.6/site-packages/keras/engine/training.py:490: UserWarning: Discrepancy between trainable weights and collected trainable weights, did you set `model.trainable` without calling `model.compile` after ?\n",
      "  'Discrepancy between trainable weights and collected trainable'\n"
     ]
    },
    {
     "name": "stdout",
     "output_type": "stream",
     "text": [
      "Train on 418 samples, validate on 105 samples\n",
      "Epoch 1/20\n",
      "418/418 [==============================] - 6s 13ms/step - loss: 0.6474 - val_loss: 24.3061\n",
      "Epoch 2/20\n",
      "418/418 [==============================] - 1s 3ms/step - loss: 0.0159 - val_loss: 18.2306\n",
      "Epoch 3/20\n",
      "418/418 [==============================] - 1s 3ms/step - loss: 0.0021 - val_loss: 16.2287\n",
      "Epoch 4/20\n",
      "418/418 [==============================] - 1s 3ms/step - loss: 5.2091e-04 - val_loss: 15.3548\n",
      "Epoch 5/20\n",
      "418/418 [==============================] - 1s 3ms/step - loss: 2.4665e-04 - val_loss: 14.9398\n",
      "Epoch 6/20\n",
      "418/418 [==============================] - 1s 3ms/step - loss: 1.9336e-04 - val_loss: 14.7323\n",
      "Epoch 7/20\n",
      "418/418 [==============================] - 1s 3ms/step - loss: 1.8046e-04 - val_loss: 14.6277\n",
      "Epoch 8/20\n",
      "418/418 [==============================] - 1s 4ms/step - loss: 1.7917e-04 - val_loss: 14.5747\n",
      "Epoch 9/20\n",
      "418/418 [==============================] - 2s 4ms/step - loss: 1.7973e-04 - val_loss: 14.5440\n",
      "Epoch 10/20\n",
      "418/418 [==============================] - 2s 4ms/step - loss: 1.7558e-04 - val_loss: 14.5268\n",
      "Epoch 11/20\n",
      "418/418 [==============================] - 2s 4ms/step - loss: 1.7674e-04 - val_loss: 14.5163\n",
      "Epoch 12/20\n",
      "418/418 [==============================] - 2s 4ms/step - loss: 1.7840e-04 - val_loss: 14.5079\n",
      "Epoch 13/20\n",
      "418/418 [==============================] - 2s 4ms/step - loss: 1.7505e-04 - val_loss: 14.5003\n",
      "Epoch 14/20\n",
      "418/418 [==============================] - 2s 4ms/step - loss: 1.7810e-04 - val_loss: 14.4938\n",
      "Epoch 15/20\n",
      "418/418 [==============================] - 2s 4ms/step - loss: 1.8127e-04 - val_loss: 14.4876\n",
      "Epoch 16/20\n",
      "418/418 [==============================] - 2s 4ms/step - loss: 1.7548e-04 - val_loss: 14.4832\n",
      "Epoch 17/20\n",
      "418/418 [==============================] - 2s 4ms/step - loss: 1.8090e-04 - val_loss: 14.4790\n",
      "Epoch 18/20\n",
      "418/418 [==============================] - 2s 4ms/step - loss: 1.7506e-04 - val_loss: 14.4763\n",
      "Epoch 19/20\n",
      "418/418 [==============================] - 2s 4ms/step - loss: 1.7484e-04 - val_loss: 14.4750\n",
      "Epoch 20/20\n",
      "418/418 [==============================] - 2s 4ms/step - loss: 1.7520e-04 - val_loss: 14.4733\n",
      "Train on 418 samples, validate on 105 samples\n",
      "Epoch 1/20\n",
      "418/418 [==============================] - 2s 4ms/step - loss: 1.7479e-04 - val_loss: 14.4720\n",
      "Epoch 2/20\n",
      "418/418 [==============================] - 2s 4ms/step - loss: 1.7555e-04 - val_loss: 14.4706\n",
      "Epoch 3/20\n",
      "418/418 [==============================] - 2s 4ms/step - loss: 1.7512e-04 - val_loss: 14.4693\n",
      "Epoch 4/20\n",
      "418/418 [==============================] - 2s 4ms/step - loss: 1.7566e-04 - val_loss: 14.4667\n",
      "Epoch 5/20\n",
      "418/418 [==============================] - 2s 4ms/step - loss: 1.7477e-04 - val_loss: 14.4639\n",
      "Epoch 6/20\n",
      "418/418 [==============================] - 2s 4ms/step - loss: 1.7495e-04 - val_loss: 14.4621\n",
      "Epoch 7/20\n",
      "418/418 [==============================] - 2s 4ms/step - loss: 1.7665e-04 - val_loss: 14.4609\n",
      "Epoch 8/20\n",
      "418/418 [==============================] - 2s 4ms/step - loss: 1.7676e-04 - val_loss: 14.4579\n",
      "Epoch 9/20\n",
      "418/418 [==============================] - 2s 4ms/step - loss: 1.7599e-04 - val_loss: 14.4564\n",
      "Epoch 10/20\n",
      "418/418 [==============================] - 2s 4ms/step - loss: 1.7480e-04 - val_loss: 14.4555\n",
      "Epoch 11/20\n",
      "418/418 [==============================] - 2s 4ms/step - loss: 1.7517e-04 - val_loss: 14.4537\n",
      "Epoch 12/20\n",
      "418/418 [==============================] - 2s 4ms/step - loss: 1.7536e-04 - val_loss: 14.4514\n",
      "Epoch 13/20\n",
      "418/418 [==============================] - 2s 4ms/step - loss: 1.7497e-04 - val_loss: 14.4516\n",
      "Epoch 14/20\n",
      "418/418 [==============================] - 2s 4ms/step - loss: 1.7493e-04 - val_loss: 14.4508\n",
      "Epoch 15/20\n",
      "418/418 [==============================] - 2s 4ms/step - loss: 1.7488e-04 - val_loss: 14.4511\n",
      "Epoch 16/20\n",
      "418/418 [==============================] - 2s 4ms/step - loss: 1.7520e-04 - val_loss: 14.4511\n",
      "Epoch 17/20\n",
      "418/418 [==============================] - 2s 4ms/step - loss: 1.7521e-04 - val_loss: 14.4505\n",
      "Epoch 18/20\n",
      "418/418 [==============================] - 2s 4ms/step - loss: 1.7476e-04 - val_loss: 14.4495\n",
      "Epoch 19/20\n",
      "418/418 [==============================] - 2s 4ms/step - loss: 1.7521e-04 - val_loss: 14.4485\n",
      "Epoch 20/20\n",
      "418/418 [==============================] - 2s 4ms/step - loss: 1.7503e-04 - val_loss: 14.4483\n",
      "Train on 418 samples, validate on 105 samples\n",
      "Epoch 1/20\n",
      "418/418 [==============================] - 2s 4ms/step - loss: 1.7532e-04 - val_loss: 14.4457\n",
      "Epoch 2/20\n",
      "418/418 [==============================] - 2s 4ms/step - loss: 1.7485e-04 - val_loss: 14.4443\n",
      "Epoch 3/20\n",
      "418/418 [==============================] - 2s 4ms/step - loss: 1.7477e-04 - val_loss: 14.4441\n",
      "Epoch 4/20\n",
      "418/418 [==============================] - 2s 4ms/step - loss: 1.7482e-04 - val_loss: 14.4437\n",
      "Epoch 5/20\n",
      "418/418 [==============================] - 2s 4ms/step - loss: 1.7498e-04 - val_loss: 14.4434\n",
      "Epoch 6/20\n",
      "418/418 [==============================] - 2s 4ms/step - loss: 1.7486e-04 - val_loss: 14.4423\n",
      "Epoch 7/20\n",
      "418/418 [==============================] - 1s 3ms/step - loss: 1.7579e-04 - val_loss: 14.4410\n",
      "Epoch 8/20\n",
      "418/418 [==============================] - 1s 3ms/step - loss: 1.7505e-04 - val_loss: 14.4399\n",
      "Epoch 9/20\n",
      "418/418 [==============================] - 2s 4ms/step - loss: 1.7507e-04 - val_loss: 14.4377\n",
      "Epoch 10/20\n",
      "418/418 [==============================] - 1s 3ms/step - loss: 1.7590e-04 - val_loss: 14.4348\n",
      "Epoch 11/20\n",
      "418/418 [==============================] - 2s 4ms/step - loss: 1.7475e-04 - val_loss: 14.4340\n",
      "Epoch 12/20\n",
      "418/418 [==============================] - 2s 4ms/step - loss: 1.7533e-04 - val_loss: 14.4333\n",
      "Epoch 13/20\n",
      "418/418 [==============================] - 2s 4ms/step - loss: 1.7474e-04 - val_loss: 14.4331\n",
      "Epoch 14/20\n",
      "418/418 [==============================] - 2s 4ms/step - loss: 1.7484e-04 - val_loss: 14.4318\n",
      "Epoch 15/20\n",
      "418/418 [==============================] - 2s 4ms/step - loss: 1.7483e-04 - val_loss: 14.4314\n",
      "Epoch 16/20\n",
      "418/418 [==============================] - 2s 4ms/step - loss: 1.7483e-04 - val_loss: 14.4308\n",
      "Epoch 17/20\n",
      "418/418 [==============================] - 2s 4ms/step - loss: 1.7494e-04 - val_loss: 14.4302\n",
      "Epoch 18/20\n",
      "418/418 [==============================] - 2s 4ms/step - loss: 1.7497e-04 - val_loss: 14.4304\n",
      "Epoch 19/20\n",
      "418/418 [==============================] - 2s 4ms/step - loss: 1.7521e-04 - val_loss: 14.4299\n",
      "Epoch 20/20\n",
      "418/418 [==============================] - 1s 4ms/step - loss: 1.7522e-04 - val_loss: 14.4293\n"
     ]
    },
    {
     "data": {
      "text/plain": [
       "<keras.callbacks.History at 0x7f307c401898>"
      ]
     },
     "execution_count": 7,
     "metadata": {},
     "output_type": "execute_result"
    }
   ],
   "source": [
    "# Make model_a non trainable\n",
    "model_abc.layers[3].trainable = False\n",
    "model_abc.layers[4].trainable = False\n",
    "model_abc.fit(x=[X_,X_,X_], y=y_, batch_size=64, epochs=20, validation_split=0.2, shuffle=True)\n",
    "\n",
    "# Make model_a non trainable\n",
    "model_abc.layers[3].trainable = False\n",
    "model_abc.layers[4].trainable = True\n",
    "model_abc.layers[5].trainable = False\n",
    "model_abc.fit(x=[X_,X_,X_], y=y_, batch_size=64, epochs=20, validation_split=0.2, shuffle=True)\n",
    "\n",
    "# Make model_a non trainable\n",
    "model_abc.layers[3].trainable = True\n",
    "model_abc.layers[4].trainable = False\n",
    "model_abc.layers[5].trainable = False\n",
    "model_abc.fit(x=[X_,X_,X_], y=y_, batch_size=64, epochs=20, validation_split=0.2, shuffle=True)\n"
   ]
  },
  {
   "cell_type": "code",
   "execution_count": 8,
   "metadata": {},
   "outputs": [
    {
     "data": {
      "text/plain": [
       "array([[ 0.        ,  0.        ,  0.        ,  0.        ,  0.        ,\n",
       "         0.        ,  0.        ,  0.        ,  0.        ,  0.        ,\n",
       "         0.        ,  0.        ,  4.7353597 ,  0.        ,  0.        ,\n",
       "         0.        ,  0.        ,  0.        ,  0.        ,  0.        ,\n",
       "         3.429306  ,  6.1703215 ,  0.        ,  0.        ,  0.        ,\n",
       "        16.767918  ,  0.        ,  0.        ,  0.        ,  0.        ,\n",
       "         0.        ,  0.        ,  0.        ,  0.        ,  0.        ,\n",
       "         0.        ,  0.        ,  0.        , 16.530386  ,  0.        ,\n",
       "         0.        ,  0.        , 10.890695  ,  0.        ,  0.        ,\n",
       "         0.        ,  0.        ,  2.2380967 ,  0.        ,  0.        ,\n",
       "         0.        ,  0.        ,  0.        ,  0.        ,  0.        ,\n",
       "         0.        ,  6.009605  ,  0.3678988 ,  0.        ,  0.        ,\n",
       "         0.        , 12.111576  ,  0.        ,  0.        ,  0.        ,\n",
       "         0.        ,  0.        ,  0.        ,  0.        ,  0.        ,\n",
       "         0.        ,  0.        ,  0.        ,  0.        ,  0.        ,\n",
       "         0.        ,  0.        ,  0.        ,  0.        ,  0.        ,\n",
       "         0.        ,  0.        ,  7.5544653 ,  0.        ,  0.        ,\n",
       "         0.        ,  2.61166   , 14.737117  ,  0.        ,  0.        ,\n",
       "         0.        ,  0.        ,  1.2763015 ,  0.        , 10.6411915 ,\n",
       "         0.        ,  0.        ,  8.132597  ,  0.        ,  0.        ,\n",
       "         0.        ,  4.699868  ,  0.        ,  0.        ,  0.        ,\n",
       "         0.        ,  3.9431238 ,  0.        ,  2.3866773 ,  0.        ,\n",
       "         0.        ,  0.        ,  0.        ,  0.        ,  0.        ,\n",
       "         7.970715  ,  0.        ,  0.        ,  0.        , 12.536163  ,\n",
       "         7.9465947 ,  0.        ,  0.        ,  0.        ,  0.        ,\n",
       "         0.        ,  0.        ,  0.        ,  0.        ,  0.        ,\n",
       "         0.        ,  7.9394255 ,  0.        ,  2.2770958 ,  0.        ,\n",
       "         0.        ,  0.        ,  0.        ,  0.        ,  0.        ,\n",
       "         2.4033751 ,  0.        ,  0.        ,  0.        ,  0.        ,\n",
       "         0.        ,  0.        ,  0.        ,  0.        ,  0.        ,\n",
       "         0.        ,  0.        ,  0.        ,  0.        ,  0.        ,\n",
       "         0.        ,  3.2872648 ,  0.        ,  0.        ,  0.        ,\n",
       "        14.454329  ,  0.        ,  0.        ,  0.        ,  0.        ,\n",
       "         0.        ,  0.33359388,  6.178063  ,  0.        ,  0.        ,\n",
       "         3.0203745 ,  0.        ,  0.        ,  0.        ,  0.        ,\n",
       "         0.        ,  0.        ,  0.        ,  0.        ,  0.        ,\n",
       "         0.        ,  0.        ,  0.        ,  0.        ,  0.9532145 ,\n",
       "         0.        ,  0.        ,  0.        ,  0.        ,  0.        ,\n",
       "         0.        ,  0.        , 14.51792   ,  0.        ,  0.        ,\n",
       "         0.        ,  0.        ,  0.        ,  0.        ,  0.        ,\n",
       "         0.        ,  0.        ,  0.        ,  0.        ,  0.        ,\n",
       "        10.532511  ,  0.        ,  0.        ,  0.        ,  0.        ,\n",
       "         0.        ,  0.        ,  0.        ,  0.        ,  0.        ,\n",
       "         0.        , 18.822533  ,  0.        , 17.057035  ,  0.        ,\n",
       "         0.        ,  0.        , 10.306907  ,  0.        ,  0.71607447,\n",
       "         0.        ,  0.        ,  0.        ,  0.        ,  0.        ,\n",
       "         0.        ,  0.        ,  0.        ,  0.        ,  0.        ,\n",
       "         0.        , 11.491273  ,  0.        ,  5.884761  ,  0.        ,\n",
       "        16.689331  ,  2.5098429 ,  0.        ,  0.        ,  0.13307711,\n",
       "         0.        ,  4.931387  ,  0.8951138 ,  0.3923604 ,  0.        ,\n",
       "         9.320999  ,  0.        ,  0.        ,  0.        ,  0.        ,\n",
       "         0.        ]], dtype=float32)"
      ]
     },
     "execution_count": 8,
     "metadata": {},
     "output_type": "execute_result"
    }
   ],
   "source": [
    "\n",
    "(model_abc.predict([[X_[0]],[X_[0]],[X_[0]]]))"
   ]
  },
  {
   "cell_type": "code",
   "execution_count": 9,
   "metadata": {},
   "outputs": [
    {
     "data": {
      "image/png": "[encoded data removed]",
      "text/plain": [
       "<Figure size 432x288 with 1 Axes>"
      ]
     },
     "metadata": {
      "needs_background": "light"
     },
     "output_type": "display_data"
    },
    {
     "data": {
      "image/png": "[encoded data removed]",
      "text/plain": [
       "<Figure size 432x288 with 1 Axes>"
      ]
     },
     "metadata": {
      "needs_background": "light"
     },
     "output_type": "display_data"
    }
   ],
   "source": [
    "import matplotlib.pyplot as plt\n",
    "y_pred = np.transpose(model_abc.predict([[X_[1,0:256,0:256,:]],[X_[1,0:256,0:256,:]],[X_[1,0:256,0:256,:]]]))\n",
    "\n",
    "fig, ax = plt.subplots()\n",
    "ax.plot(y_pred[0:256],'r')\n",
    "\n",
    "ax.set(xlabel='intensity', ylabel='std',\n",
    "       title='pred nlf')\n",
    "plt.show()\n",
    "\n",
    "fig, ax = plt.subplots()\n",
    "ax.plot(y_[1][0:256],'r')\n",
    "\n",
    "ax.set(xlabel='intensity', ylabel='std',\n",
    "       title='test nlf')\n",
    "plt.show()"
   ]
  },
  {
   "cell_type": "code",
   "execution_count": 10,
   "metadata": {},
   "outputs": [
    {
     "data": {
      "text/plain": [
       "\"from keras.utils import plot_model\\n\\nplot_model(model_abc, to_file='model_plot.png', show_shapes=True, show_layer_names=True)\""
      ]
     },
     "execution_count": 10,
     "metadata": {},
     "output_type": "execute_result"
    }
   ],
   "source": [
    "'''from keras.utils import plot_model\n",
    "\n",
    "plot_model(model_abc, to_file='model_plot.png', show_shapes=True, show_layer_names=True)'''\n"
   ]
  },
  {
   "cell_type": "code",
   "execution_count": 11,
   "metadata": {},
   "outputs": [
    {
     "data": {
      "text/plain": [
       "'from keras import backend as K\\nK.tensorflow_backend._get_available_gpus()'"
      ]
     },
     "execution_count": 11,
     "metadata": {},
     "output_type": "execute_result"
    }
   ],
   "source": [
    "'''from keras import backend as K\n",
    "K.tensorflow_backend._get_available_gpus()'''"
   ]
  },
  {
   "cell_type": "code",
   "execution_count": 12,
   "metadata": {},
   "outputs": [],
   "source": [
    "model_abc.save('models/model_abc1704.h5')"
   ]
  },
  {
   "cell_type": "code",
   "execution_count": null,
   "metadata": {},
   "outputs": [],
   "source": []
  }
 ],
 "metadata": {
  "kernelspec": {
   "display_name": "Python [conda env:carlus]",
   "language": "python",
   "name": "conda-env-carlus-py"
  },
  "language_info": {
   "codemirror_mode": {
    "name": "ipython",
    "version": 3
   },
   "file_extension": ".py",
   "mimetype": "text/x-python",
   "name": "python",
   "nbconvert_exporter": "python",
   "pygments_lexer": "ipython3",
   "version": "3.6.8"
  }
 },
 "nbformat": 4,
 "nbformat_minor": 2
}
